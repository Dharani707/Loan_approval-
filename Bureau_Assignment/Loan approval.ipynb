{
 "cells": [
  {
   "cell_type": "markdown",
   "id": "9ccc1d1d",
   "metadata": {},
   "source": [
    "# Problem Statement:\n",
    "\n",
    "\n",
    "Assume you are a loan risk officer at a large bank and you are tasked with determining whether a two-wheeler loan application will be accepted or rejected based on the data shared by the loan applicant and some additional data extracted about them from 3rd party sources."
   ]
  },
  {
   "cell_type": "code",
   "execution_count": 1,
   "id": "72816fc4",
   "metadata": {},
   "outputs": [
    {
     "name": "stdout",
     "output_type": "stream",
     "text": [
      "Requirement already satisfied: xgboost in /home/krishna/anaconda3/lib/python3.11/site-packages (2.1.0)\n",
      "Requirement already satisfied: numpy in /home/krishna/anaconda3/lib/python3.11/site-packages (from xgboost) (1.26.4)\n",
      "Requirement already satisfied: nvidia-nccl-cu12 in /home/krishna/anaconda3/lib/python3.11/site-packages (from xgboost) (2.20.5)\n",
      "Requirement already satisfied: scipy in /home/krishna/anaconda3/lib/python3.11/site-packages (from xgboost) (1.11.4)\n",
      "Note: you may need to restart the kernel to use updated packages.\n"
     ]
    }
   ],
   "source": [
    "pip install xgboost"
   ]
  },
  {
   "cell_type": "code",
   "execution_count": 2,
   "id": "66fe7ed8",
   "metadata": {},
   "outputs": [],
   "source": [
    "import numpy as np\n",
    "import pandas as pd\n",
    "\n",
    "# import subpackage of Matplotlib\n",
    "import matplotlib.pyplot as plt\n",
    "\n",
    "# import 'Seaborn' \n",
    "import seaborn as sns\n",
    "\n",
    "# to suppress warnings \n",
    "from warnings import filterwarnings\n",
    "filterwarnings('ignore')\n",
    "\n",
    "# import train-test split \n",
    "from sklearn.model_selection import train_test_split\n",
    "\n",
    "# import StandardScaler to perform scaling\n",
    "from sklearn.preprocessing import StandardScaler\n",
    "\n",
    "# import various functions from sklearn\n",
    "from sklearn.linear_model import LogisticRegression\n",
    "\n",
    "from sklearn.metrics import classification_report\n",
    "from sklearn.tree import DecisionTreeClassifier\n",
    "from sklearn.ensemble import RandomForestClassifier\n",
    "from sklearn import tree\n",
    "from sklearn.model_selection import GridSearchCV\n",
    "\n",
    "import matplotlib.pyplot as plt\n",
    "from matplotlib.colors import ListedColormap\n",
    "from sklearn.metrics import confusion_matrix\n",
    "from sklearn.metrics import roc_curve\n",
    "from sklearn.metrics import accuracy_score\n",
    "# import the XGBoost function for classification\n",
    "from xgboost import XGBClassifier\n",
    "\n",
    "# Import necessary libraries for random sample\n",
    "from sklearn.model_selection import train_test_split\n",
    "from imblearn.over_sampling import RandomOverSampler\n",
    "from collections import Counter\n",
    "\n",
    "from imblearn.over_sampling import SMOTE\n",
    "from collections import Counter\n",
    "from sklearn.model_selection import train_test_split"
   ]
  },
  {
   "cell_type": "code",
   "execution_count": 3,
   "id": "fd97fe76",
   "metadata": {},
   "outputs": [],
   "source": [
    "df = pd.read_csv(\"Assignment_Train.csv\")"
   ]
  },
  {
   "cell_type": "code",
   "execution_count": 4,
   "id": "06be8032",
   "metadata": {},
   "outputs": [
    {
     "data": {
      "text/html": [
       "<div>\n",
       "<style scoped>\n",
       "    .dataframe tbody tr th:only-of-type {\n",
       "        vertical-align: middle;\n",
       "    }\n",
       "\n",
       "    .dataframe tbody tr th {\n",
       "        vertical-align: top;\n",
       "    }\n",
       "\n",
       "    .dataframe thead th {\n",
       "        text-align: right;\n",
       "    }\n",
       "</style>\n",
       "<table border=\"1\" class=\"dataframe\">\n",
       "  <thead>\n",
       "    <tr style=\"text-align: right;\">\n",
       "      <th></th>\n",
       "      <th>DEALER ID</th>\n",
       "      <th>APPLICATION LOGIN DATE</th>\n",
       "      <th>HDB BRANCH NAME</th>\n",
       "      <th>HDB BRANCH STATE</th>\n",
       "      <th>FIRST NAME</th>\n",
       "      <th>MIDDLE NAME</th>\n",
       "      <th>LAST NAME</th>\n",
       "      <th>mobile</th>\n",
       "      <th>AADHAR VERIFIED</th>\n",
       "      <th>Cibil Score</th>\n",
       "      <th>...</th>\n",
       "      <th>Phone Social Premium.shaadi</th>\n",
       "      <th>Phone Social Premium.skype</th>\n",
       "      <th>Phone Social Premium.toi</th>\n",
       "      <th>Phone Social Premium.whatsapp</th>\n",
       "      <th>Phone Social Premium.yatra</th>\n",
       "      <th>Phone Social Premium.zoho</th>\n",
       "      <th>phone_digitalage</th>\n",
       "      <th>phone_nameMatchScore</th>\n",
       "      <th>phone_phoneFootprintStrengthOverall</th>\n",
       "      <th>Application Status</th>\n",
       "    </tr>\n",
       "  </thead>\n",
       "  <tbody>\n",
       "    <tr>\n",
       "      <th>0</th>\n",
       "      <td>106989</td>\n",
       "      <td>07/20/2022</td>\n",
       "      <td>DELHI-SF</td>\n",
       "      <td>DELHI</td>\n",
       "      <td>SUNIL</td>\n",
       "      <td>NaN</td>\n",
       "      <td>CHANDER</td>\n",
       "      <td>9210574080</td>\n",
       "      <td>NO</td>\n",
       "      <td>726</td>\n",
       "      <td>...</td>\n",
       "      <td>0.0</td>\n",
       "      <td>0.0</td>\n",
       "      <td>1.0</td>\n",
       "      <td>NaN</td>\n",
       "      <td>NaN</td>\n",
       "      <td>0.0</td>\n",
       "      <td>5324.0</td>\n",
       "      <td>67.222222</td>\n",
       "      <td>High</td>\n",
       "      <td>APPROVED</td>\n",
       "    </tr>\n",
       "    <tr>\n",
       "      <th>1</th>\n",
       "      <td>108975</td>\n",
       "      <td>07/28/2022</td>\n",
       "      <td>PATNA-SF</td>\n",
       "      <td>BIHAR</td>\n",
       "      <td>AMRIT</td>\n",
       "      <td>NaN</td>\n",
       "      <td>KUMAR</td>\n",
       "      <td>8877987018</td>\n",
       "      <td>NO</td>\n",
       "      <td>NaN</td>\n",
       "      <td>...</td>\n",
       "      <td>0.0</td>\n",
       "      <td>0.0</td>\n",
       "      <td>0.0</td>\n",
       "      <td>NaN</td>\n",
       "      <td>NaN</td>\n",
       "      <td>0.0</td>\n",
       "      <td>1998.0</td>\n",
       "      <td>100.000000</td>\n",
       "      <td>High</td>\n",
       "      <td>APPROVED</td>\n",
       "    </tr>\n",
       "    <tr>\n",
       "      <th>2</th>\n",
       "      <td>111004</td>\n",
       "      <td>07/15/2022</td>\n",
       "      <td>DARJEELING-SF</td>\n",
       "      <td>WEST BENGAL</td>\n",
       "      <td>ANIMESH</td>\n",
       "      <td>NaN</td>\n",
       "      <td>THAPA</td>\n",
       "      <td>8910862135</td>\n",
       "      <td>NO</td>\n",
       "      <td>737</td>\n",
       "      <td>...</td>\n",
       "      <td>0.0</td>\n",
       "      <td>0.0</td>\n",
       "      <td>0.0</td>\n",
       "      <td>NaN</td>\n",
       "      <td>NaN</td>\n",
       "      <td>0.0</td>\n",
       "      <td>-1.0</td>\n",
       "      <td>-1.000000</td>\n",
       "      <td>Low</td>\n",
       "      <td>APPROVED</td>\n",
       "    </tr>\n",
       "    <tr>\n",
       "      <th>3</th>\n",
       "      <td>192020</td>\n",
       "      <td>07/04/22</td>\n",
       "      <td>SAHARANPUR-SF</td>\n",
       "      <td>UTTAR PRADESH</td>\n",
       "      <td>ADITYA</td>\n",
       "      <td>NaN</td>\n",
       "      <td>SINGH</td>\n",
       "      <td>9758428017</td>\n",
       "      <td>NO</td>\n",
       "      <td>713</td>\n",
       "      <td>...</td>\n",
       "      <td>0.0</td>\n",
       "      <td>0.0</td>\n",
       "      <td>1.0</td>\n",
       "      <td>NaN</td>\n",
       "      <td>NaN</td>\n",
       "      <td>0.0</td>\n",
       "      <td>1998.0</td>\n",
       "      <td>72.777778</td>\n",
       "      <td>High</td>\n",
       "      <td>APPROVED</td>\n",
       "    </tr>\n",
       "    <tr>\n",
       "      <th>4</th>\n",
       "      <td>55095</td>\n",
       "      <td>07/15/2022</td>\n",
       "      <td>MODASA-SF</td>\n",
       "      <td>GUJARAT</td>\n",
       "      <td>PARMAR</td>\n",
       "      <td>HARESHBHAI</td>\n",
       "      <td>AMRUTBHAI</td>\n",
       "      <td>9687028486</td>\n",
       "      <td>NO</td>\n",
       "      <td>669</td>\n",
       "      <td>...</td>\n",
       "      <td>0.0</td>\n",
       "      <td>0.0</td>\n",
       "      <td>1.0</td>\n",
       "      <td>NaN</td>\n",
       "      <td>NaN</td>\n",
       "      <td>0.0</td>\n",
       "      <td>1998.0</td>\n",
       "      <td>68.095238</td>\n",
       "      <td>High</td>\n",
       "      <td>DECLINED</td>\n",
       "    </tr>\n",
       "  </tbody>\n",
       "</table>\n",
       "<p>5 rows × 55 columns</p>\n",
       "</div>"
      ],
      "text/plain": [
       "   DEALER ID APPLICATION LOGIN DATE HDB BRANCH NAME HDB BRANCH STATE  \\\n",
       "0     106989             07/20/2022        DELHI-SF            DELHI   \n",
       "1     108975             07/28/2022        PATNA-SF            BIHAR   \n",
       "2     111004             07/15/2022   DARJEELING-SF      WEST BENGAL   \n",
       "3     192020               07/04/22   SAHARANPUR-SF    UTTAR PRADESH   \n",
       "4      55095             07/15/2022       MODASA-SF          GUJARAT   \n",
       "\n",
       "  FIRST NAME MIDDLE NAME  LAST NAME      mobile AADHAR VERIFIED Cibil Score  \\\n",
       "0      SUNIL         NaN    CHANDER  9210574080              NO         726   \n",
       "1      AMRIT         NaN      KUMAR  8877987018              NO         NaN   \n",
       "2    ANIMESH         NaN      THAPA  8910862135              NO         737   \n",
       "3     ADITYA         NaN      SINGH  9758428017              NO         713   \n",
       "4     PARMAR  HARESHBHAI  AMRUTBHAI  9687028486              NO         669   \n",
       "\n",
       "   ...  Phone Social Premium.shaadi Phone Social Premium.skype  \\\n",
       "0  ...                          0.0                        0.0   \n",
       "1  ...                          0.0                        0.0   \n",
       "2  ...                          0.0                        0.0   \n",
       "3  ...                          0.0                        0.0   \n",
       "4  ...                          0.0                        0.0   \n",
       "\n",
       "   Phone Social Premium.toi Phone Social Premium.whatsapp  \\\n",
       "0                       1.0                           NaN   \n",
       "1                       0.0                           NaN   \n",
       "2                       0.0                           NaN   \n",
       "3                       1.0                           NaN   \n",
       "4                       1.0                           NaN   \n",
       "\n",
       "   Phone Social Premium.yatra  Phone Social Premium.zoho phone_digitalage  \\\n",
       "0                         NaN                        0.0           5324.0   \n",
       "1                         NaN                        0.0           1998.0   \n",
       "2                         NaN                        0.0             -1.0   \n",
       "3                         NaN                        0.0           1998.0   \n",
       "4                         NaN                        0.0           1998.0   \n",
       "\n",
       "  phone_nameMatchScore phone_phoneFootprintStrengthOverall Application Status  \n",
       "0            67.222222                                High           APPROVED  \n",
       "1           100.000000                                High           APPROVED  \n",
       "2            -1.000000                                 Low           APPROVED  \n",
       "3            72.777778                                High           APPROVED  \n",
       "4            68.095238                                High           DECLINED  \n",
       "\n",
       "[5 rows x 55 columns]"
      ]
     },
     "execution_count": 4,
     "metadata": {},
     "output_type": "execute_result"
    }
   ],
   "source": [
    "df.head()"
   ]
  },
  {
   "cell_type": "code",
   "execution_count": 5,
   "id": "0e847b8e",
   "metadata": {},
   "outputs": [
    {
     "data": {
      "text/plain": [
       "(10000, 55)"
      ]
     },
     "execution_count": 5,
     "metadata": {},
     "output_type": "execute_result"
    }
   ],
   "source": [
    "df.shape"
   ]
  },
  {
   "cell_type": "code",
   "execution_count": 6,
   "id": "fbd4f205",
   "metadata": {},
   "outputs": [
    {
     "data": {
      "text/plain": [
       "['DEALER ID',\n",
       " 'APPLICATION LOGIN DATE',\n",
       " 'HDB BRANCH NAME',\n",
       " 'HDB BRANCH STATE',\n",
       " 'FIRST NAME',\n",
       " 'MIDDLE NAME',\n",
       " 'LAST NAME',\n",
       " 'mobile',\n",
       " 'AADHAR VERIFIED',\n",
       " 'Cibil Score',\n",
       " 'MOBILE VERIFICATION',\n",
       " 'DEALER NAME',\n",
       " 'TOTAL ASSET COST',\n",
       " 'ASSET CTG',\n",
       " 'ASSET MODEL NO',\n",
       " 'APPLIED AMOUNT',\n",
       " 'PRIMARY ASSET MAKE',\n",
       " 'Primary Asset Model No',\n",
       " 'Personal Email Address',\n",
       " 'MARITAL STATUS',\n",
       " 'GENDER',\n",
       " 'DOB',\n",
       " 'AGE',\n",
       " 'ADDRESS TYPE',\n",
       " 'EMPLOY CONSTITUTION',\n",
       " 'EMPLOYER NAME',\n",
       " 'EMPLOYER TYPE',\n",
       " 'Pan Name',\n",
       " 'name',\n",
       " 'vpa',\n",
       " 'upi_name',\n",
       " 'Phone Social Premium.a23games',\n",
       " 'Phone Social Premium.amazon',\n",
       " 'Phone Social Premium.byjus',\n",
       " 'Phone Social Premium.flipkart',\n",
       " 'Phone Social Premium.housing',\n",
       " 'Phone Social Premium.indiamart',\n",
       " 'Phone Social Premium.instagram',\n",
       " 'Phone Social Premium.isWABusiness',\n",
       " 'Phone Social Premium.jeevansaathi',\n",
       " 'Phone Social Premium.jiomart',\n",
       " 'Phone Social Premium.microsoft',\n",
       " 'Phone Social Premium.my11',\n",
       " 'Phone Social Premium.paytm',\n",
       " 'Phone Social Premium.rummycircle',\n",
       " 'Phone Social Premium.shaadi',\n",
       " 'Phone Social Premium.skype',\n",
       " 'Phone Social Premium.toi',\n",
       " 'Phone Social Premium.whatsapp',\n",
       " 'Phone Social Premium.yatra',\n",
       " 'Phone Social Premium.zoho',\n",
       " 'phone_digitalage',\n",
       " 'phone_nameMatchScore',\n",
       " 'phone_phoneFootprintStrengthOverall',\n",
       " 'Application Status']"
      ]
     },
     "execution_count": 6,
     "metadata": {},
     "output_type": "execute_result"
    }
   ],
   "source": [
    "list(df.columns)"
   ]
  },
  {
   "cell_type": "markdown",
   "id": "72d14ccc",
   "metadata": {},
   "source": [
    "## Taking only necessary columns\n"
   ]
  },
  {
   "cell_type": "code",
   "execution_count": 7,
   "id": "8b1b5717",
   "metadata": {},
   "outputs": [],
   "source": [
    "# Show all rows\n",
    "pd.set_option('display.max_rows', None)\n",
    "\n",
    "# Show all columns\n",
    "pd.set_option('display.max_columns', None)"
   ]
  },
  {
   "cell_type": "code",
   "execution_count": 8,
   "id": "1e6e9e05",
   "metadata": {},
   "outputs": [],
   "source": [
    "sample_df = df[['AADHAR VERIFIED', 'Cibil Score', 'MOBILE VERIFICATION', 'TOTAL ASSET COST', 'ASSET CTG', \n",
    "    'ASSET MODEL NO', 'APPLIED AMOUNT', 'PRIMARY ASSET MAKE', 'Primary Asset Model No', 'Pan Name',\n",
    "    'vpa', 'upi_name', 'EMPLOY CONSTITUTION', 'EMPLOYER TYPE', 'name', 'phone_nameMatchScore', 'phone_phoneFootprintStrengthOverall', 'Application Status']]"
   ]
  },
  {
   "cell_type": "code",
   "execution_count": 9,
   "id": "dd4f8be4",
   "metadata": {},
   "outputs": [
    {
     "data": {
      "text/html": [
       "<div>\n",
       "<style scoped>\n",
       "    .dataframe tbody tr th:only-of-type {\n",
       "        vertical-align: middle;\n",
       "    }\n",
       "\n",
       "    .dataframe tbody tr th {\n",
       "        vertical-align: top;\n",
       "    }\n",
       "\n",
       "    .dataframe thead th {\n",
       "        text-align: right;\n",
       "    }\n",
       "</style>\n",
       "<table border=\"1\" class=\"dataframe\">\n",
       "  <thead>\n",
       "    <tr style=\"text-align: right;\">\n",
       "      <th></th>\n",
       "      <th>AADHAR VERIFIED</th>\n",
       "      <th>Cibil Score</th>\n",
       "      <th>MOBILE VERIFICATION</th>\n",
       "      <th>TOTAL ASSET COST</th>\n",
       "      <th>ASSET CTG</th>\n",
       "      <th>ASSET MODEL NO</th>\n",
       "      <th>APPLIED AMOUNT</th>\n",
       "      <th>PRIMARY ASSET MAKE</th>\n",
       "      <th>Primary Asset Model No</th>\n",
       "      <th>Pan Name</th>\n",
       "      <th>vpa</th>\n",
       "      <th>upi_name</th>\n",
       "      <th>EMPLOY CONSTITUTION</th>\n",
       "      <th>EMPLOYER TYPE</th>\n",
       "      <th>name</th>\n",
       "      <th>phone_nameMatchScore</th>\n",
       "      <th>phone_phoneFootprintStrengthOverall</th>\n",
       "      <th>Application Status</th>\n",
       "    </tr>\n",
       "  </thead>\n",
       "  <tbody>\n",
       "    <tr>\n",
       "      <th>0</th>\n",
       "      <td>NO</td>\n",
       "      <td>726</td>\n",
       "      <td>True</td>\n",
       "      <td>95041.0</td>\n",
       "      <td>MCEXA</td>\n",
       "      <td>139542</td>\n",
       "      <td>85000</td>\n",
       "      <td>HONDA MOTORS</td>\n",
       "      <td>SHINE DRUM BSVI</td>\n",
       "      <td>SUNIL KUMAR</td>\n",
       "      <td>ABFSPAY</td>\n",
       "      <td>SUNIL KUMAR</td>\n",
       "      <td>SALARIED</td>\n",
       "      <td>SALARIED</td>\n",
       "      <td>SUNIL CHANDER</td>\n",
       "      <td>67.222222</td>\n",
       "      <td>High</td>\n",
       "      <td>APPROVED</td>\n",
       "    </tr>\n",
       "    <tr>\n",
       "      <th>1</th>\n",
       "      <td>NO</td>\n",
       "      <td>NaN</td>\n",
       "      <td>True</td>\n",
       "      <td>NaN</td>\n",
       "      <td>NaN</td>\n",
       "      <td>140208</td>\n",
       "      <td>90000</td>\n",
       "      <td>HERO MOTORS</td>\n",
       "      <td>SPLENDOR PLUS SELF DRUM BSVI I3S</td>\n",
       "      <td>AMRIT KUMAR</td>\n",
       "      <td>OKSBI</td>\n",
       "      <td>Amrit  Kumar</td>\n",
       "      <td>NaN</td>\n",
       "      <td>NaN</td>\n",
       "      <td>AMRIT KUMAR</td>\n",
       "      <td>100.000000</td>\n",
       "      <td>High</td>\n",
       "      <td>APPROVED</td>\n",
       "    </tr>\n",
       "    <tr>\n",
       "      <th>2</th>\n",
       "      <td>NO</td>\n",
       "      <td>737</td>\n",
       "      <td>True</td>\n",
       "      <td>119436.0</td>\n",
       "      <td>SCEXA</td>\n",
       "      <td>160001</td>\n",
       "      <td>75000</td>\n",
       "      <td>TVS MOTOR CO</td>\n",
       "      <td>TVS NTORQ SUPER SQUAD EDITION BSVI</td>\n",
       "      <td>ANIMESH THAPA</td>\n",
       "      <td>NaN</td>\n",
       "      <td>NaN</td>\n",
       "      <td>SELF-EMPLOYED</td>\n",
       "      <td>SELF-EMPLOYED</td>\n",
       "      <td>ANIMESH THAPA</td>\n",
       "      <td>-1.000000</td>\n",
       "      <td>Low</td>\n",
       "      <td>APPROVED</td>\n",
       "    </tr>\n",
       "    <tr>\n",
       "      <th>3</th>\n",
       "      <td>NO</td>\n",
       "      <td>713</td>\n",
       "      <td>True</td>\n",
       "      <td>87000.0</td>\n",
       "      <td>MCECA</td>\n",
       "      <td>160832</td>\n",
       "      <td>78500</td>\n",
       "      <td>HERO MOTORS</td>\n",
       "      <td>SPLENDOR+ BLK ACCT SS DRUM I3S BSVI</td>\n",
       "      <td>ADITYA KUMAR</td>\n",
       "      <td>PAYTM</td>\n",
       "      <td>Aditya Kumar</td>\n",
       "      <td>SELF-EMPLOYED</td>\n",
       "      <td>SELF-EMPLOYED</td>\n",
       "      <td>ADITYA SINGH</td>\n",
       "      <td>72.777778</td>\n",
       "      <td>High</td>\n",
       "      <td>APPROVED</td>\n",
       "    </tr>\n",
       "    <tr>\n",
       "      <th>4</th>\n",
       "      <td>NO</td>\n",
       "      <td>669</td>\n",
       "      <td>True</td>\n",
       "      <td>NaN</td>\n",
       "      <td>NaN</td>\n",
       "      <td>174641</td>\n",
       "      <td>70000</td>\n",
       "      <td>HONDA MOTORS</td>\n",
       "      <td>DIO STD BSVI</td>\n",
       "      <td>HARESHBHAI AMRUTBHAI PARMAR</td>\n",
       "      <td>IKWIK</td>\n",
       "      <td>HARESHBHAI AMRUTBHAI</td>\n",
       "      <td>NaN</td>\n",
       "      <td>NaN</td>\n",
       "      <td>PARMAR HARESHBHAI AMRUTBHAI</td>\n",
       "      <td>68.095238</td>\n",
       "      <td>High</td>\n",
       "      <td>DECLINED</td>\n",
       "    </tr>\n",
       "  </tbody>\n",
       "</table>\n",
       "</div>"
      ],
      "text/plain": [
       "  AADHAR VERIFIED Cibil Score  MOBILE VERIFICATION  TOTAL ASSET COST  \\\n",
       "0              NO         726                 True           95041.0   \n",
       "1              NO         NaN                 True               NaN   \n",
       "2              NO         737                 True          119436.0   \n",
       "3              NO         713                 True           87000.0   \n",
       "4              NO         669                 True               NaN   \n",
       "\n",
       "  ASSET CTG  ASSET MODEL NO  APPLIED AMOUNT PRIMARY ASSET MAKE  \\\n",
       "0     MCEXA          139542           85000       HONDA MOTORS   \n",
       "1       NaN          140208           90000        HERO MOTORS   \n",
       "2     SCEXA          160001           75000       TVS MOTOR CO   \n",
       "3     MCECA          160832           78500        HERO MOTORS   \n",
       "4       NaN          174641           70000       HONDA MOTORS   \n",
       "\n",
       "                Primary Asset Model No                     Pan Name      vpa  \\\n",
       "0                      SHINE DRUM BSVI                  SUNIL KUMAR  ABFSPAY   \n",
       "1     SPLENDOR PLUS SELF DRUM BSVI I3S                  AMRIT KUMAR    OKSBI   \n",
       "2   TVS NTORQ SUPER SQUAD EDITION BSVI                ANIMESH THAPA      NaN   \n",
       "3  SPLENDOR+ BLK ACCT SS DRUM I3S BSVI                 ADITYA KUMAR    PAYTM   \n",
       "4                         DIO STD BSVI  HARESHBHAI AMRUTBHAI PARMAR    IKWIK   \n",
       "\n",
       "               upi_name EMPLOY CONSTITUTION  EMPLOYER TYPE  \\\n",
       "0           SUNIL KUMAR            SALARIED       SALARIED   \n",
       "1          Amrit  Kumar                 NaN            NaN   \n",
       "2                   NaN       SELF-EMPLOYED  SELF-EMPLOYED   \n",
       "3          Aditya Kumar       SELF-EMPLOYED  SELF-EMPLOYED   \n",
       "4  HARESHBHAI AMRUTBHAI                 NaN            NaN   \n",
       "\n",
       "                          name  phone_nameMatchScore  \\\n",
       "0                SUNIL CHANDER             67.222222   \n",
       "1                  AMRIT KUMAR            100.000000   \n",
       "2                ANIMESH THAPA             -1.000000   \n",
       "3                 ADITYA SINGH             72.777778   \n",
       "4  PARMAR HARESHBHAI AMRUTBHAI             68.095238   \n",
       "\n",
       "  phone_phoneFootprintStrengthOverall Application Status  \n",
       "0                                High           APPROVED  \n",
       "1                                High           APPROVED  \n",
       "2                                 Low           APPROVED  \n",
       "3                                High           APPROVED  \n",
       "4                                High           DECLINED  "
      ]
     },
     "execution_count": 9,
     "metadata": {},
     "output_type": "execute_result"
    }
   ],
   "source": [
    "sample_df.head()"
   ]
  },
  {
   "cell_type": "code",
   "execution_count": 10,
   "id": "fe525450",
   "metadata": {},
   "outputs": [
    {
     "data": {
      "text/plain": [
       "(10000, 18)"
      ]
     },
     "execution_count": 10,
     "metadata": {},
     "output_type": "execute_result"
    }
   ],
   "source": [
    "sample_df.shape"
   ]
  },
  {
   "cell_type": "code",
   "execution_count": 11,
   "id": "423d4b2d",
   "metadata": {},
   "outputs": [],
   "source": [
    "sample_df.drop(columns = ['ASSET MODEL NO', 'Primary Asset Model No', 'Pan Name', 'vpa', \n",
    "                          'upi_name', 'EMPLOY CONSTITUTION', 'name', 'ASSET CTG', 'PRIMARY ASSET MAKE'],\n",
    "               axis = 1, inplace = True)"
   ]
  },
  {
   "cell_type": "code",
   "execution_count": 12,
   "id": "4d38af87",
   "metadata": {},
   "outputs": [
    {
     "data": {
      "text/plain": [
       "(10000, 9)"
      ]
     },
     "execution_count": 12,
     "metadata": {},
     "output_type": "execute_result"
    }
   ],
   "source": [
    "sample_df.shape"
   ]
  },
  {
   "cell_type": "code",
   "execution_count": 13,
   "id": "73a15e5b",
   "metadata": {},
   "outputs": [
    {
     "data": {
      "text/html": [
       "<div>\n",
       "<style scoped>\n",
       "    .dataframe tbody tr th:only-of-type {\n",
       "        vertical-align: middle;\n",
       "    }\n",
       "\n",
       "    .dataframe tbody tr th {\n",
       "        vertical-align: top;\n",
       "    }\n",
       "\n",
       "    .dataframe thead th {\n",
       "        text-align: right;\n",
       "    }\n",
       "</style>\n",
       "<table border=\"1\" class=\"dataframe\">\n",
       "  <thead>\n",
       "    <tr style=\"text-align: right;\">\n",
       "      <th></th>\n",
       "      <th>AADHAR VERIFIED</th>\n",
       "      <th>Cibil Score</th>\n",
       "      <th>MOBILE VERIFICATION</th>\n",
       "      <th>TOTAL ASSET COST</th>\n",
       "      <th>APPLIED AMOUNT</th>\n",
       "      <th>EMPLOYER TYPE</th>\n",
       "      <th>phone_nameMatchScore</th>\n",
       "      <th>phone_phoneFootprintStrengthOverall</th>\n",
       "      <th>Application Status</th>\n",
       "    </tr>\n",
       "  </thead>\n",
       "  <tbody>\n",
       "    <tr>\n",
       "      <th>0</th>\n",
       "      <td>NO</td>\n",
       "      <td>726</td>\n",
       "      <td>True</td>\n",
       "      <td>95041.0</td>\n",
       "      <td>85000</td>\n",
       "      <td>SALARIED</td>\n",
       "      <td>67.222222</td>\n",
       "      <td>High</td>\n",
       "      <td>APPROVED</td>\n",
       "    </tr>\n",
       "    <tr>\n",
       "      <th>1</th>\n",
       "      <td>NO</td>\n",
       "      <td>NaN</td>\n",
       "      <td>True</td>\n",
       "      <td>NaN</td>\n",
       "      <td>90000</td>\n",
       "      <td>NaN</td>\n",
       "      <td>100.000000</td>\n",
       "      <td>High</td>\n",
       "      <td>APPROVED</td>\n",
       "    </tr>\n",
       "    <tr>\n",
       "      <th>2</th>\n",
       "      <td>NO</td>\n",
       "      <td>737</td>\n",
       "      <td>True</td>\n",
       "      <td>119436.0</td>\n",
       "      <td>75000</td>\n",
       "      <td>SELF-EMPLOYED</td>\n",
       "      <td>-1.000000</td>\n",
       "      <td>Low</td>\n",
       "      <td>APPROVED</td>\n",
       "    </tr>\n",
       "    <tr>\n",
       "      <th>3</th>\n",
       "      <td>NO</td>\n",
       "      <td>713</td>\n",
       "      <td>True</td>\n",
       "      <td>87000.0</td>\n",
       "      <td>78500</td>\n",
       "      <td>SELF-EMPLOYED</td>\n",
       "      <td>72.777778</td>\n",
       "      <td>High</td>\n",
       "      <td>APPROVED</td>\n",
       "    </tr>\n",
       "    <tr>\n",
       "      <th>4</th>\n",
       "      <td>NO</td>\n",
       "      <td>669</td>\n",
       "      <td>True</td>\n",
       "      <td>NaN</td>\n",
       "      <td>70000</td>\n",
       "      <td>NaN</td>\n",
       "      <td>68.095238</td>\n",
       "      <td>High</td>\n",
       "      <td>DECLINED</td>\n",
       "    </tr>\n",
       "  </tbody>\n",
       "</table>\n",
       "</div>"
      ],
      "text/plain": [
       "  AADHAR VERIFIED Cibil Score  MOBILE VERIFICATION  TOTAL ASSET COST  \\\n",
       "0              NO         726                 True           95041.0   \n",
       "1              NO         NaN                 True               NaN   \n",
       "2              NO         737                 True          119436.0   \n",
       "3              NO         713                 True           87000.0   \n",
       "4              NO         669                 True               NaN   \n",
       "\n",
       "   APPLIED AMOUNT  EMPLOYER TYPE  phone_nameMatchScore  \\\n",
       "0           85000       SALARIED             67.222222   \n",
       "1           90000            NaN            100.000000   \n",
       "2           75000  SELF-EMPLOYED             -1.000000   \n",
       "3           78500  SELF-EMPLOYED             72.777778   \n",
       "4           70000            NaN             68.095238   \n",
       "\n",
       "  phone_phoneFootprintStrengthOverall Application Status  \n",
       "0                                High           APPROVED  \n",
       "1                                High           APPROVED  \n",
       "2                                 Low           APPROVED  \n",
       "3                                High           APPROVED  \n",
       "4                                High           DECLINED  "
      ]
     },
     "execution_count": 13,
     "metadata": {},
     "output_type": "execute_result"
    }
   ],
   "source": [
    "sample_df.head()"
   ]
  },
  {
   "cell_type": "code",
   "execution_count": 14,
   "id": "8196c77d",
   "metadata": {},
   "outputs": [
    {
     "name": "stdout",
     "output_type": "stream",
     "text": [
      "<class 'pandas.core.frame.DataFrame'>\n",
      "RangeIndex: 10000 entries, 0 to 9999\n",
      "Data columns (total 9 columns):\n",
      " #   Column                               Non-Null Count  Dtype  \n",
      "---  ------                               --------------  -----  \n",
      " 0   AADHAR VERIFIED                      10000 non-null  object \n",
      " 1   Cibil Score                          5703 non-null   object \n",
      " 2   MOBILE VERIFICATION                  10000 non-null  bool   \n",
      " 3   TOTAL ASSET COST                     4892 non-null   float64\n",
      " 4   APPLIED AMOUNT                       10000 non-null  int64  \n",
      " 5   EMPLOYER TYPE                        5002 non-null   object \n",
      " 6   phone_nameMatchScore                 9996 non-null   float64\n",
      " 7   phone_phoneFootprintStrengthOverall  9994 non-null   object \n",
      " 8   Application Status                   10000 non-null  object \n",
      "dtypes: bool(1), float64(2), int64(1), object(5)\n",
      "memory usage: 634.9+ KB\n"
     ]
    }
   ],
   "source": [
    "sample_df.info()"
   ]
  },
  {
   "cell_type": "markdown",
   "id": "c6299891",
   "metadata": {},
   "source": [
    "## Handling Missing values"
   ]
  },
  {
   "cell_type": "code",
   "execution_count": 15,
   "id": "368d4a5b",
   "metadata": {},
   "outputs": [
    {
     "data": {
      "text/plain": [
       "AADHAR VERIFIED                           0\n",
       "Cibil Score                            4297\n",
       "MOBILE VERIFICATION                       0\n",
       "TOTAL ASSET COST                       5108\n",
       "APPLIED AMOUNT                            0\n",
       "EMPLOYER TYPE                          4998\n",
       "phone_nameMatchScore                      4\n",
       "phone_phoneFootprintStrengthOverall       6\n",
       "Application Status                        0\n",
       "dtype: int64"
      ]
     },
     "execution_count": 15,
     "metadata": {},
     "output_type": "execute_result"
    }
   ],
   "source": [
    "sample_df.isnull().sum()"
   ]
  },
  {
   "cell_type": "code",
   "execution_count": 16,
   "id": "4616affa",
   "metadata": {},
   "outputs": [
    {
     "name": "stdout",
     "output_type": "stream",
     "text": [
      "Meadian value for Cibil Score: 725.0\n",
      "Mean value for Cibil Score: 706.4021182700794\n"
     ]
    },
    {
     "data": {
      "text/plain": [
       "count    5665.000000\n",
       "mean      706.402118\n",
       "std        61.452289\n",
       "min       521.000000\n",
       "25%       668.000000\n",
       "50%       725.000000\n",
       "75%       752.000000\n",
       "max       826.000000\n",
       "Name: Cibil Score, dtype: float64"
      ]
     },
     "execution_count": 16,
     "metadata": {},
     "output_type": "execute_result"
    }
   ],
   "source": [
    "# Convert the column to numeric (non-numeric values will be turned into NaN)\n",
    "sample_df['Cibil Score'] = pd.to_numeric(sample_df['Cibil Score'], errors='coerce')\n",
    "print(\"Meadian value for Cibil Score:\",sample_df['Cibil Score'].median())\n",
    "print(\"Mean value for Cibil Score:\",sample_df['Cibil Score'].mean())\n",
    "sample_df['Cibil Score'].describe()"
   ]
  },
  {
   "cell_type": "markdown",
   "id": "03386035",
   "metadata": {},
   "source": [
    "## Checking Distribution of Data and handle missing values effectly"
   ]
  },
  {
   "cell_type": "code",
   "execution_count": 17,
   "id": "8ef37fdd",
   "metadata": {},
   "outputs": [
    {
     "data": {
      "image/png": "[encoded data removed]",
      "text/plain": [
       "<Figure size 1200x600 with 1 Axes>"
      ]
     },
     "metadata": {},
     "output_type": "display_data"
    },
    {
     "data": {
      "image/png": "[encoded data removed]",
      "text/plain": [
       "<Figure size 1200x600 with 1 Axes>"
      ]
     },
     "metadata": {},
     "output_type": "display_data"
    }
   ],
   "source": [
    "import matplotlib.pyplot as plt\n",
    "import seaborn as sns\n",
    "\n",
    "# Histogram\n",
    "plt.figure(figsize=(12, 6))\n",
    "sns.histplot(sample_df['Cibil Score'].dropna(), bins=30, kde=True)\n",
    "plt.title('Histogram of Cibil Score')\n",
    "plt.show()\n",
    "\n",
    "# Boxplot\n",
    "plt.figure(figsize=(12, 6))\n",
    "sns.boxplot(x=sample_df['Cibil Score'].dropna())\n",
    "plt.title('Boxplot of Cibil Score')\n",
    "plt.show()\n"
   ]
  },
  {
   "cell_type": "markdown",
   "id": "8028c970",
   "metadata": {},
   "source": [
    "I opted for the 25th percentile over the median because, with a higher amount of missing values, the 25th percentile manages outliers and missing values more effectively. It is less influenced by extreme values compared to the median. The distribution is better preserved, as illustrated in the plot below."
   ]
  },
  {
   "cell_type": "code",
   "execution_count": 18,
   "id": "081728ba",
   "metadata": {},
   "outputs": [],
   "source": [
    "# # Calculate the median\n",
    "# median_value = sample_df['Cibil Score'].median()\n",
    "\n",
    "# # Fill missing values with the median\n",
    "# sample_df['Cibil Score'].fillna(median_value, inplace=True)\n",
    "\n",
    "\n",
    "# Calculate the 25th percentile\n",
    "percentile_25 = sample_df['Cibil Score'].quantile(0.25)\n",
    "\n",
    "# Fill missing values with the 25th percentile\n",
    "sample_df['Cibil Score'].fillna(percentile_25, inplace=True)"
   ]
  },
  {
   "cell_type": "code",
   "execution_count": 19,
   "id": "640c9152",
   "metadata": {},
   "outputs": [
    {
     "data": {
      "image/png": "[encoded data removed]",
      "text/plain": [
       "<Figure size 1200x600 with 1 Axes>"
      ]
     },
     "metadata": {},
     "output_type": "display_data"
    },
    {
     "data": {
      "image/png": "[encoded data removed]",
      "text/plain": [
       "<Figure size 1200x600 with 1 Axes>"
      ]
     },
     "metadata": {},
     "output_type": "display_data"
    }
   ],
   "source": [
    "import matplotlib.pyplot as plt\n",
    "import seaborn as sns\n",
    "\n",
    "# Histogram\n",
    "plt.figure(figsize=(12, 6))\n",
    "sns.histplot(sample_df['Cibil Score'].dropna(), bins=30, kde=True)\n",
    "plt.title('Histogram of Cibil Score')\n",
    "plt.show()\n",
    "\n",
    "# Boxplot\n",
    "plt.figure(figsize=(12, 6))\n",
    "sns.boxplot(x=sample_df['Cibil Score'].dropna())\n",
    "plt.title('Boxplot of Cibil Score')\n",
    "plt.show()\n"
   ]
  },
  {
   "cell_type": "code",
   "execution_count": 20,
   "id": "2cafa92d",
   "metadata": {},
   "outputs": [
    {
     "data": {
      "text/plain": [
       "count    9996.000000\n",
       "mean       55.645558\n",
       "std        42.100616\n",
       "min        -1.000000\n",
       "25%        -1.000000\n",
       "50%        73.571429\n",
       "75%        96.000000\n",
       "max       100.000000\n",
       "Name: phone_nameMatchScore, dtype: float64"
      ]
     },
     "execution_count": 20,
     "metadata": {},
     "output_type": "execute_result"
    }
   ],
   "source": [
    "# Convert the column to numeric (non-numeric values will be turned into NaN)\n",
    "sample_df['phone_nameMatchScore'] = pd.to_numeric(sample_df['phone_nameMatchScore'], errors='coerce')\n",
    "sample_df['phone_nameMatchScore'].describe()"
   ]
  },
  {
   "cell_type": "code",
   "execution_count": 21,
   "id": "ef688a0b",
   "metadata": {},
   "outputs": [],
   "source": [
    "# Fill missing values with the mean\n",
    "sample_df['phone_nameMatchScore'].fillna(sample_df['phone_nameMatchScore'].mean(), inplace=True)"
   ]
  },
  {
   "cell_type": "code",
   "execution_count": 22,
   "id": "e02d57d6",
   "metadata": {},
   "outputs": [
    {
     "data": {
      "text/plain": [
       "phone_phoneFootprintStrengthOverall\n",
       "Medium       4599\n",
       "High         4141\n",
       "Low          1179\n",
       "Very High      44\n",
       "Very Low       31\n",
       "Name: count, dtype: int64"
      ]
     },
     "execution_count": 22,
     "metadata": {},
     "output_type": "execute_result"
    }
   ],
   "source": [
    "sample_df['phone_phoneFootprintStrengthOverall'].value_counts()"
   ]
  },
  {
   "cell_type": "code",
   "execution_count": 23,
   "id": "aa5f2936",
   "metadata": {},
   "outputs": [],
   "source": [
    "# Fill missing values \n",
    "sample_df['phone_phoneFootprintStrengthOverall'].fillna('Medium', inplace=True)"
   ]
  },
  {
   "cell_type": "code",
   "execution_count": 24,
   "id": "8259896d",
   "metadata": {},
   "outputs": [],
   "source": [
    "# Convert the column to numeric (non-numeric values will be turned into NaN)\n",
    "sample_df['TOTAL ASSET COST'] = pd.to_numeric(sample_df['TOTAL ASSET COST'], errors = 'coerce')"
   ]
  },
  {
   "cell_type": "code",
   "execution_count": 25,
   "id": "a97e55d8",
   "metadata": {},
   "outputs": [
    {
     "data": {
      "text/plain": [
       "count      4892.000000\n",
       "mean      97612.518397\n",
       "std       16745.027041\n",
       "min       51873.000000\n",
       "25%       88425.500000\n",
       "50%       94400.000000\n",
       "75%      103499.250000\n",
       "max      241116.000000\n",
       "Name: TOTAL ASSET COST, dtype: float64"
      ]
     },
     "execution_count": 25,
     "metadata": {},
     "output_type": "execute_result"
    }
   ],
   "source": [
    "sample_df['TOTAL ASSET COST'].describe()"
   ]
  },
  {
   "cell_type": "code",
   "execution_count": 26,
   "id": "f484313b",
   "metadata": {},
   "outputs": [
    {
     "data": {
      "image/png": "[encoded data removed]",
      "text/plain": [
       "<Figure size 1200x600 with 1 Axes>"
      ]
     },
     "metadata": {},
     "output_type": "display_data"
    },
    {
     "data": {
      "image/png": "[encoded data removed]",
      "text/plain": [
       "<Figure size 1200x600 with 1 Axes>"
      ]
     },
     "metadata": {},
     "output_type": "display_data"
    }
   ],
   "source": [
    "import matplotlib.pyplot as plt\n",
    "import seaborn as sns\n",
    "\n",
    "# Histogram\n",
    "plt.figure(figsize=(12, 6))\n",
    "sns.histplot(sample_df['TOTAL ASSET COST'].dropna(), bins=30, kde=True)\n",
    "plt.title('Histogram of TOTAL ASSET COST')\n",
    "plt.show()\n",
    "\n",
    "# Boxplot\n",
    "plt.figure(figsize=(12, 6))\n",
    "sns.boxplot(x=sample_df['TOTAL ASSET COST'].dropna())\n",
    "plt.title('Boxplot of TOTAL ASSET COST')\n",
    "plt.show()\n"
   ]
  },
  {
   "cell_type": "code",
   "execution_count": 27,
   "id": "789061c5",
   "metadata": {},
   "outputs": [],
   "source": [
    "# # Calculate the median\n",
    "# mean_value = sample_df['TOTAL ASSET COST'].mean()\n",
    "\n",
    "# # Fill missing values with the median\n",
    "# sample_df['TOTAL ASSET COST'].fillna(mean_value, inplace=True)\n",
    "\n",
    "# Calculate the 25th percentile\n",
    "percentile_25 = sample_df['TOTAL ASSET COST'].quantile(0.25)\n",
    "\n",
    "# Fill missing values with the 25th percentile\n",
    "sample_df['TOTAL ASSET COST'].fillna(percentile_25, inplace=True)"
   ]
  },
  {
   "cell_type": "code",
   "execution_count": 28,
   "id": "ed82a7ae",
   "metadata": {},
   "outputs": [
    {
     "data": {
      "image/png": "[encoded data removed]",
      "text/plain": [
       "<Figure size 1200x600 with 1 Axes>"
      ]
     },
     "metadata": {},
     "output_type": "display_data"
    },
    {
     "data": {
      "image/png": "[encoded data removed]",
      "text/plain": [
       "<Figure size 1200x600 with 1 Axes>"
      ]
     },
     "metadata": {},
     "output_type": "display_data"
    }
   ],
   "source": [
    "import matplotlib.pyplot as plt\n",
    "import seaborn as sns\n",
    "\n",
    "# Histogram\n",
    "plt.figure(figsize=(12, 6))\n",
    "sns.histplot(sample_df['TOTAL ASSET COST'].dropna(), bins=30, kde=True)\n",
    "plt.title('Histogram of TOTAL ASSET COST')\n",
    "plt.show()\n",
    "\n",
    "# Boxplot\n",
    "plt.figure(figsize=(12, 6))\n",
    "sns.boxplot(x=sample_df['TOTAL ASSET COST'].dropna())\n",
    "plt.title('Boxplot of TOTAL ASSET COST')\n",
    "plt.show()\n"
   ]
  },
  {
   "cell_type": "code",
   "execution_count": 29,
   "id": "27d2b93a",
   "metadata": {},
   "outputs": [
    {
     "data": {
      "text/plain": [
       "EMPLOYER TYPE\n",
       "SELF-EMPLOYED     3473\n",
       "SALARIED          1354\n",
       "Non-Government     152\n",
       "Government          23\n",
       "Name: count, dtype: int64"
      ]
     },
     "execution_count": 29,
     "metadata": {},
     "output_type": "execute_result"
    }
   ],
   "source": [
    "sample_df['EMPLOYER TYPE'].value_counts()"
   ]
  },
  {
   "cell_type": "code",
   "execution_count": 30,
   "id": "4c24fa90",
   "metadata": {},
   "outputs": [],
   "source": [
    "sample_df['EMPLOYER TYPE'].fillna('Unknown', inplace = True)"
   ]
  },
  {
   "cell_type": "code",
   "execution_count": 31,
   "id": "431ea038",
   "metadata": {},
   "outputs": [
    {
     "name": "stdout",
     "output_type": "stream",
     "text": [
      "<class 'pandas.core.frame.DataFrame'>\n",
      "RangeIndex: 10000 entries, 0 to 9999\n",
      "Data columns (total 9 columns):\n",
      " #   Column                               Non-Null Count  Dtype  \n",
      "---  ------                               --------------  -----  \n",
      " 0   AADHAR VERIFIED                      10000 non-null  object \n",
      " 1   Cibil Score                          10000 non-null  float64\n",
      " 2   MOBILE VERIFICATION                  10000 non-null  bool   \n",
      " 3   TOTAL ASSET COST                     10000 non-null  float64\n",
      " 4   APPLIED AMOUNT                       10000 non-null  int64  \n",
      " 5   EMPLOYER TYPE                        10000 non-null  object \n",
      " 6   phone_nameMatchScore                 10000 non-null  float64\n",
      " 7   phone_phoneFootprintStrengthOverall  10000 non-null  object \n",
      " 8   Application Status                   10000 non-null  object \n",
      "dtypes: bool(1), float64(3), int64(1), object(4)\n",
      "memory usage: 634.9+ KB\n"
     ]
    }
   ],
   "source": [
    "sample_df.info()"
   ]
  },
  {
   "cell_type": "markdown",
   "id": "207923c3",
   "metadata": {},
   "source": [
    "## Seperating Numerical and Categorical columns"
   ]
  },
  {
   "cell_type": "code",
   "execution_count": 32,
   "id": "78c0cea4",
   "metadata": {},
   "outputs": [
    {
     "name": "stdout",
     "output_type": "stream",
     "text": [
      "Index(['Cibil Score', 'TOTAL ASSET COST', 'APPLIED AMOUNT',\n",
      "       'phone_nameMatchScore'],\n",
      "      dtype='object')\n"
     ]
    },
    {
     "data": {
      "text/plain": [
       "(10000, 4)"
      ]
     },
     "execution_count": 32,
     "metadata": {},
     "output_type": "execute_result"
    }
   ],
   "source": [
    "df_num = sample_df.select_dtypes(include = [np.number])\n",
    "print(df_num.columns)\n",
    "df_num.shape"
   ]
  },
  {
   "cell_type": "code",
   "execution_count": 33,
   "id": "473e8854",
   "metadata": {},
   "outputs": [
    {
     "name": "stdout",
     "output_type": "stream",
     "text": [
      "Index(['AADHAR VERIFIED', 'MOBILE VERIFICATION', 'EMPLOYER TYPE',\n",
      "       'phone_phoneFootprintStrengthOverall', 'Application Status'],\n",
      "      dtype='object')\n"
     ]
    },
    {
     "data": {
      "text/plain": [
       "(10000, 5)"
      ]
     },
     "execution_count": 33,
     "metadata": {},
     "output_type": "execute_result"
    }
   ],
   "source": [
    "sample_df['MOBILE VERIFICATION'] = sample_df['MOBILE VERIFICATION'].astype('object')\n",
    "df_cat = sample_df.select_dtypes(include = 'object')\n",
    "print(df_cat.columns)\n",
    "df_cat.shape"
   ]
  },
  {
   "cell_type": "code",
   "execution_count": 34,
   "id": "a17ad109",
   "metadata": {},
   "outputs": [
    {
     "name": "stdout",
     "output_type": "stream",
     "text": [
      "Index(['AADHAR VERIFIED', 'Cibil Score', 'MOBILE VERIFICATION',\n",
      "       'TOTAL ASSET COST', 'APPLIED AMOUNT', 'EMPLOYER TYPE',\n",
      "       'phone_nameMatchScore', 'phone_phoneFootprintStrengthOverall',\n",
      "       'Application Status'],\n",
      "      dtype='object')\n"
     ]
    },
    {
     "data": {
      "text/plain": [
       "(10000, 9)"
      ]
     },
     "execution_count": 34,
     "metadata": {},
     "output_type": "execute_result"
    }
   ],
   "source": [
    "print(sample_df.columns)\n",
    "sample_df.shape"
   ]
  },
  {
   "cell_type": "markdown",
   "id": "158a2bd0",
   "metadata": {},
   "source": [
    "## Handling Outliers"
   ]
  },
  {
   "cell_type": "code",
   "execution_count": 35,
   "id": "5b0c3f2c",
   "metadata": {},
   "outputs": [
    {
     "data": {
      "image/png": "[encoded data removed]",
      "text/plain": [
       "<Figure size 640x480 with 1 Axes>"
      ]
     },
     "metadata": {},
     "output_type": "display_data"
    },
    {
     "data": {
      "image/png": "[encoded data removed]",
      "text/plain": [
       "<Figure size 640x480 with 1 Axes>"
      ]
     },
     "metadata": {},
     "output_type": "display_data"
    },
    {
     "data": {
      "image/png": "[encoded data removed]",
      "text/plain": [
       "<Figure size 640x480 with 1 Axes>"
      ]
     },
     "metadata": {},
     "output_type": "display_data"
    },
    {
     "data": {
      "image/png": "[encoded data removed]",
      "text/plain": [
       "<Figure size 640x480 with 1 Axes>"
      ]
     },
     "metadata": {},
     "output_type": "display_data"
    }
   ],
   "source": [
    "# now let's detect outliers in the numerical columns\n",
    "num_col = list(df_num.columns)\n",
    "for col in num_col:\n",
    "    plt.style.use(\"ggplot\")\n",
    "    sns.boxplot(df_num[col])\n",
    "    plt.title(\"Detection of outliers in {} using boxplot\".format(col))\n",
    "    plt.show()"
   ]
  },
  {
   "cell_type": "markdown",
   "id": "093b53e3",
   "metadata": {},
   "source": [
    "## Handling Outliers with  different methods"
   ]
  },
  {
   "cell_type": "markdown",
   "id": "612cdf34",
   "metadata": {},
   "source": [
    "I experimented with various outlier handling methods, including logarithmic transformation, square root transformation, and capping. Given the high amount of outliers in this dataset, I found that capping handles them most effectively compared to the other methods."
   ]
  },
  {
   "cell_type": "code",
   "execution_count": 36,
   "id": "ad427434",
   "metadata": {},
   "outputs": [],
   "source": [
    "def handle_outliers(series, method):\n",
    "    if method == 'cap' :\n",
    "    # calculating lowwer and upper bound\n",
    "        Q1 = series.quantile(0.25)\n",
    "        Q3 = series.quantile(0.75)\n",
    "        IQR = Q3 - Q1\n",
    "        multiplier = 1.5\n",
    "        lower_bound = Q1 - multiplier * IQR\n",
    "        upper_bound = Q3 + multiplier * IQR\n",
    "    \n",
    "    # treat outlier by using caping\n",
    "        series = series.apply(lambda x : lower_bound if x < lower_bound else x)\n",
    "        series = series.apply(lambda x : upper_bound if x > upper_bound else x)\n",
    "    \n",
    "    elif method == 'log' :\n",
    "        series = np.log1p(series)\n",
    "    elif method == 'sqrt' :\n",
    "        series = np.sqrt(series)\n",
    "        \n",
    "    return series\n",
    "\n",
    "df_num['Cibil Score'] = handle_outliers(df_num['Cibil Score'], method = 'cap')\n",
    "df_num['TOTAL ASSET COST'] = handle_outliers(df_num['TOTAL ASSET COST'], method = 'cap')\n",
    "df_num['APPLIED AMOUNT'] = handle_outliers(df_num['APPLIED AMOUNT'], method = 'cap')"
   ]
  },
  {
   "cell_type": "code",
   "execution_count": 37,
   "id": "1bb6af39",
   "metadata": {},
   "outputs": [
    {
     "data": {
      "image/png": "[encoded data removed]",
      "text/plain": [
       "<Figure size 640x480 with 1 Axes>"
      ]
     },
     "metadata": {},
     "output_type": "display_data"
    },
    {
     "data": {
      "image/png": "[encoded data removed]",
      "text/plain": [
       "<Figure size 640x480 with 1 Axes>"
      ]
     },
     "metadata": {},
     "output_type": "display_data"
    },
    {
     "data": {
      "image/png": "[encoded data removed]",
      "text/plain": [
       "<Figure size 640x480 with 1 Axes>"
      ]
     },
     "metadata": {},
     "output_type": "display_data"
    },
    {
     "data": {
      "image/png": "[encoded data removed]",
      "text/plain": [
       "<Figure size 640x480 with 1 Axes>"
      ]
     },
     "metadata": {},
     "output_type": "display_data"
    }
   ],
   "source": [
    "# now let's detect outliers in the numerical columns\n",
    "num_col = list(df_num.columns)\n",
    "for col in num_col:\n",
    "    plt.style.use(\"ggplot\")\n",
    "    sns.boxplot(df_num[col])\n",
    "    plt.title(\"Detection of outliers in {} using boxplot\".format(col))\n",
    "    plt.show()"
   ]
  },
  {
   "cell_type": "markdown",
   "id": "f79abb79",
   "metadata": {},
   "source": [
    "## Handling Categorical variables"
   ]
  },
  {
   "cell_type": "markdown",
   "id": "55ff3975",
   "metadata": {},
   "source": [
    "I used one-hot encoding with pd.get_dummies to convert categorical variables into numerical format. This approach was applied to transform categorical features into a binary matrix, enabling the dataset to be used effectively in machine learning algorithms."
   ]
  },
  {
   "cell_type": "code",
   "execution_count": 38,
   "id": "a6b18a13",
   "metadata": {},
   "outputs": [],
   "source": [
    "target = df_cat['Application Status']\n",
    "target = pd.get_dummies(data = target, prefix = 'Application Status', prefix_sep='_',\n",
    "               columns = ['Application Status'],\n",
    "               dtype='int8')\n",
    "df_cat.drop(columns = ['Application Status'], axis = 1, inplace = True)"
   ]
  },
  {
   "cell_type": "code",
   "execution_count": 39,
   "id": "8cf3e134",
   "metadata": {},
   "outputs": [
    {
     "data": {
      "text/plain": [
       "(10000, 4)"
      ]
     },
     "execution_count": 39,
     "metadata": {},
     "output_type": "execute_result"
    }
   ],
   "source": [
    "df_cat.shape"
   ]
  },
  {
   "cell_type": "code",
   "execution_count": 40,
   "id": "efdd8f67",
   "metadata": {},
   "outputs": [],
   "source": [
    "categorical_columns =  list(df_cat.columns)\n",
    "dummy_var = pd.get_dummies(data = df_cat, prefix = None, prefix_sep='_',\n",
    "               columns = categorical_columns,\n",
    "               drop_first =True,\n",
    "              dtype='int8')"
   ]
  },
  {
   "cell_type": "code",
   "execution_count": 41,
   "id": "ce436a89",
   "metadata": {},
   "outputs": [
    {
     "data": {
      "text/html": [
       "<div>\n",
       "<style scoped>\n",
       "    .dataframe tbody tr th:only-of-type {\n",
       "        vertical-align: middle;\n",
       "    }\n",
       "\n",
       "    .dataframe tbody tr th {\n",
       "        vertical-align: top;\n",
       "    }\n",
       "\n",
       "    .dataframe thead th {\n",
       "        text-align: right;\n",
       "    }\n",
       "</style>\n",
       "<table border=\"1\" class=\"dataframe\">\n",
       "  <thead>\n",
       "    <tr style=\"text-align: right;\">\n",
       "      <th></th>\n",
       "      <th>Application Status_APPROVED</th>\n",
       "      <th>Application Status_DECLINED</th>\n",
       "    </tr>\n",
       "  </thead>\n",
       "  <tbody>\n",
       "    <tr>\n",
       "      <th>0</th>\n",
       "      <td>1</td>\n",
       "      <td>0</td>\n",
       "    </tr>\n",
       "    <tr>\n",
       "      <th>1</th>\n",
       "      <td>1</td>\n",
       "      <td>0</td>\n",
       "    </tr>\n",
       "    <tr>\n",
       "      <th>2</th>\n",
       "      <td>1</td>\n",
       "      <td>0</td>\n",
       "    </tr>\n",
       "    <tr>\n",
       "      <th>3</th>\n",
       "      <td>1</td>\n",
       "      <td>0</td>\n",
       "    </tr>\n",
       "    <tr>\n",
       "      <th>4</th>\n",
       "      <td>0</td>\n",
       "      <td>1</td>\n",
       "    </tr>\n",
       "  </tbody>\n",
       "</table>\n",
       "</div>"
      ],
      "text/plain": [
       "   Application Status_APPROVED  Application Status_DECLINED\n",
       "0                            1                            0\n",
       "1                            1                            0\n",
       "2                            1                            0\n",
       "3                            1                            0\n",
       "4                            0                            1"
      ]
     },
     "execution_count": 41,
     "metadata": {},
     "output_type": "execute_result"
    }
   ],
   "source": [
    "target.head()"
   ]
  },
  {
   "cell_type": "code",
   "execution_count": 42,
   "id": "7d667456",
   "metadata": {},
   "outputs": [],
   "source": [
    "target.drop(columns = 'Application Status_DECLINED', axis = 1, inplace = True)"
   ]
  },
  {
   "cell_type": "code",
   "execution_count": 43,
   "id": "131a170a",
   "metadata": {},
   "outputs": [
    {
     "data": {
      "text/html": [
       "<div>\n",
       "<style scoped>\n",
       "    .dataframe tbody tr th:only-of-type {\n",
       "        vertical-align: middle;\n",
       "    }\n",
       "\n",
       "    .dataframe tbody tr th {\n",
       "        vertical-align: top;\n",
       "    }\n",
       "\n",
       "    .dataframe thead th {\n",
       "        text-align: right;\n",
       "    }\n",
       "</style>\n",
       "<table border=\"1\" class=\"dataframe\">\n",
       "  <thead>\n",
       "    <tr style=\"text-align: right;\">\n",
       "      <th></th>\n",
       "      <th>Application Status_APPROVED</th>\n",
       "    </tr>\n",
       "  </thead>\n",
       "  <tbody>\n",
       "    <tr>\n",
       "      <th>0</th>\n",
       "      <td>1</td>\n",
       "    </tr>\n",
       "    <tr>\n",
       "      <th>1</th>\n",
       "      <td>1</td>\n",
       "    </tr>\n",
       "    <tr>\n",
       "      <th>2</th>\n",
       "      <td>1</td>\n",
       "    </tr>\n",
       "    <tr>\n",
       "      <th>3</th>\n",
       "      <td>1</td>\n",
       "    </tr>\n",
       "    <tr>\n",
       "      <th>4</th>\n",
       "      <td>0</td>\n",
       "    </tr>\n",
       "  </tbody>\n",
       "</table>\n",
       "</div>"
      ],
      "text/plain": [
       "   Application Status_APPROVED\n",
       "0                            1\n",
       "1                            1\n",
       "2                            1\n",
       "3                            1\n",
       "4                            0"
      ]
     },
     "execution_count": 43,
     "metadata": {},
     "output_type": "execute_result"
    }
   ],
   "source": [
    "target.head()"
   ]
  },
  {
   "cell_type": "markdown",
   "id": "4755c21e",
   "metadata": {},
   "source": [
    "## Scaling Numerical columns\n",
    "\n",
    "We scale the variables to get all the variables in the same range. With this, we can avoid a problem in which some features come to dominate solely because they tend to have larger impact than others."
   ]
  },
  {
   "cell_type": "code",
   "execution_count": 44,
   "id": "c8ae79f3",
   "metadata": {},
   "outputs": [],
   "source": [
    "# import StandardScaler to perform scaling\n",
    "from sklearn.preprocessing import StandardScaler \n",
    "\n",
    "# initialize the standard scalar\n",
    "X_scaler = StandardScaler()\n",
    "\n",
    "# scale all the numeric variables\n",
    "# standardize all the columns of the dataframe 'df_num'\n",
    "num_scaled = X_scaler.fit_transform(df_num)\n",
    "\n",
    "# create a dataframe of scaled numerical variables\n",
    "# pass the required column names to the parameter 'columns'\n",
    "df_num_scaled = pd.DataFrame(num_scaled, columns = df_num.columns)"
   ]
  },
  {
   "cell_type": "code",
   "execution_count": 45,
   "id": "dd1075c8",
   "metadata": {},
   "outputs": [
    {
     "data": {
      "text/html": [
       "<div>\n",
       "<style scoped>\n",
       "    .dataframe tbody tr th:only-of-type {\n",
       "        vertical-align: middle;\n",
       "    }\n",
       "\n",
       "    .dataframe tbody tr th {\n",
       "        vertical-align: top;\n",
       "    }\n",
       "\n",
       "    .dataframe thead th {\n",
       "        text-align: right;\n",
       "    }\n",
       "</style>\n",
       "<table border=\"1\" class=\"dataframe\">\n",
       "  <thead>\n",
       "    <tr style=\"text-align: right;\">\n",
       "      <th></th>\n",
       "      <th>Cibil Score</th>\n",
       "      <th>TOTAL ASSET COST</th>\n",
       "      <th>APPLIED AMOUNT</th>\n",
       "      <th>phone_nameMatchScore</th>\n",
       "      <th>EMPLOYER TYPE_Non-Government</th>\n",
       "      <th>EMPLOYER TYPE_SALARIED</th>\n",
       "      <th>EMPLOYER TYPE_SELF-EMPLOYED</th>\n",
       "      <th>EMPLOYER TYPE_Unknown</th>\n",
       "      <th>phone_phoneFootprintStrengthOverall_Low</th>\n",
       "      <th>phone_phoneFootprintStrengthOverall_Medium</th>\n",
       "      <th>phone_phoneFootprintStrengthOverall_Very High</th>\n",
       "      <th>phone_phoneFootprintStrengthOverall_Very Low</th>\n",
       "    </tr>\n",
       "  </thead>\n",
       "  <tbody>\n",
       "    <tr>\n",
       "      <th>0</th>\n",
       "      <td>0.734694</td>\n",
       "      <td>0.642930</td>\n",
       "      <td>-0.348673</td>\n",
       "      <td>0.275045</td>\n",
       "      <td>0</td>\n",
       "      <td>1</td>\n",
       "      <td>0</td>\n",
       "      <td>0</td>\n",
       "      <td>0</td>\n",
       "      <td>0</td>\n",
       "      <td>0</td>\n",
       "      <td>0</td>\n",
       "    </tr>\n",
       "    <tr>\n",
       "      <th>1</th>\n",
       "      <td>-0.457688</td>\n",
       "      <td>-0.465579</td>\n",
       "      <td>-0.017169</td>\n",
       "      <td>1.053798</td>\n",
       "      <td>0</td>\n",
       "      <td>0</td>\n",
       "      <td>0</td>\n",
       "      <td>1</td>\n",
       "      <td>0</td>\n",
       "      <td>0</td>\n",
       "      <td>0</td>\n",
       "      <td>0</td>\n",
       "    </tr>\n",
       "    <tr>\n",
       "      <th>2</th>\n",
       "      <td>0.960836</td>\n",
       "      <td>1.903020</td>\n",
       "      <td>-1.011679</td>\n",
       "      <td>-1.345817</td>\n",
       "      <td>0</td>\n",
       "      <td>0</td>\n",
       "      <td>1</td>\n",
       "      <td>0</td>\n",
       "      <td>1</td>\n",
       "      <td>0</td>\n",
       "      <td>0</td>\n",
       "      <td>0</td>\n",
       "    </tr>\n",
       "    <tr>\n",
       "      <th>3</th>\n",
       "      <td>0.467436</td>\n",
       "      <td>-0.704439</td>\n",
       "      <td>-0.779627</td>\n",
       "      <td>0.407037</td>\n",
       "      <td>0</td>\n",
       "      <td>0</td>\n",
       "      <td>1</td>\n",
       "      <td>0</td>\n",
       "      <td>0</td>\n",
       "      <td>0</td>\n",
       "      <td>0</td>\n",
       "      <td>0</td>\n",
       "    </tr>\n",
       "    <tr>\n",
       "      <th>4</th>\n",
       "      <td>-0.437129</td>\n",
       "      <td>-0.465579</td>\n",
       "      <td>-1.343183</td>\n",
       "      <td>0.295786</td>\n",
       "      <td>0</td>\n",
       "      <td>0</td>\n",
       "      <td>0</td>\n",
       "      <td>1</td>\n",
       "      <td>0</td>\n",
       "      <td>0</td>\n",
       "      <td>0</td>\n",
       "      <td>0</td>\n",
       "    </tr>\n",
       "  </tbody>\n",
       "</table>\n",
       "</div>"
      ],
      "text/plain": [
       "   Cibil Score  TOTAL ASSET COST  APPLIED AMOUNT  phone_nameMatchScore  \\\n",
       "0     0.734694          0.642930       -0.348673              0.275045   \n",
       "1    -0.457688         -0.465579       -0.017169              1.053798   \n",
       "2     0.960836          1.903020       -1.011679             -1.345817   \n",
       "3     0.467436         -0.704439       -0.779627              0.407037   \n",
       "4    -0.437129         -0.465579       -1.343183              0.295786   \n",
       "\n",
       "   EMPLOYER TYPE_Non-Government  EMPLOYER TYPE_SALARIED  \\\n",
       "0                             0                       1   \n",
       "1                             0                       0   \n",
       "2                             0                       0   \n",
       "3                             0                       0   \n",
       "4                             0                       0   \n",
       "\n",
       "   EMPLOYER TYPE_SELF-EMPLOYED  EMPLOYER TYPE_Unknown  \\\n",
       "0                            0                      0   \n",
       "1                            0                      1   \n",
       "2                            1                      0   \n",
       "3                            1                      0   \n",
       "4                            0                      1   \n",
       "\n",
       "   phone_phoneFootprintStrengthOverall_Low  \\\n",
       "0                                        0   \n",
       "1                                        0   \n",
       "2                                        1   \n",
       "3                                        0   \n",
       "4                                        0   \n",
       "\n",
       "   phone_phoneFootprintStrengthOverall_Medium  \\\n",
       "0                                           0   \n",
       "1                                           0   \n",
       "2                                           0   \n",
       "3                                           0   \n",
       "4                                           0   \n",
       "\n",
       "   phone_phoneFootprintStrengthOverall_Very High  \\\n",
       "0                                              0   \n",
       "1                                              0   \n",
       "2                                              0   \n",
       "3                                              0   \n",
       "4                                              0   \n",
       "\n",
       "   phone_phoneFootprintStrengthOverall_Very Low  \n",
       "0                                             0  \n",
       "1                                             0  \n",
       "2                                             0  \n",
       "3                                             0  \n",
       "4                                             0  "
      ]
     },
     "execution_count": 45,
     "metadata": {},
     "output_type": "execute_result"
    }
   ],
   "source": [
    "# concat the dummy variables with numeric features to create a dataframe of all independent variables\n",
    "# 'axis=1' concats the dataframes along columns \n",
    "X = pd.concat([df_num_scaled, dummy_var], axis = 1)\n",
    "\n",
    "# display first five observations\n",
    "X.head()"
   ]
  },
  {
   "cell_type": "markdown",
   "id": "64f6734a",
   "metadata": {},
   "source": [
    "## Seperating Dependent and Independent Features"
   ]
  },
  {
   "cell_type": "code",
   "execution_count": 46,
   "id": "3cdccd1d",
   "metadata": {},
   "outputs": [],
   "source": [
    "y = target"
   ]
  },
  {
   "cell_type": "code",
   "execution_count": 47,
   "id": "d7f3d211",
   "metadata": {},
   "outputs": [
    {
     "data": {
      "text/plain": [
       "(10000, 12)"
      ]
     },
     "execution_count": 47,
     "metadata": {},
     "output_type": "execute_result"
    }
   ],
   "source": [
    "X.shape"
   ]
  },
  {
   "cell_type": "code",
   "execution_count": 48,
   "id": "3aaf10c5",
   "metadata": {},
   "outputs": [
    {
     "data": {
      "text/plain": [
       "(10000, 1)"
      ]
     },
     "execution_count": 48,
     "metadata": {},
     "output_type": "execute_result"
    }
   ],
   "source": [
    "y.shape"
   ]
  },
  {
   "cell_type": "markdown",
   "id": "f6192785",
   "metadata": {},
   "source": [
    "## Train-Test Split"
   ]
  },
  {
   "cell_type": "code",
   "execution_count": 49,
   "id": "f6004076",
   "metadata": {},
   "outputs": [
    {
     "name": "stdout",
     "output_type": "stream",
     "text": [
      "X_train (8000, 12)\n",
      "y_train (8000, 1)\n",
      "X_test (2000, 12)\n",
      "y_test (2000, 1)\n"
     ]
    }
   ],
   "source": [
    "# import train-test split \n",
    "from sklearn.model_selection import train_test_split\n",
    "\n",
    "# split data into train subset and test subset\n",
    "# set 'random_state' to generate the same dataset each time you run the code \n",
    "# 'test_size' returns the proportion of data to be included in the testing set\n",
    "X_train, X_test, y_train, y_test = train_test_split(X, y, random_state = 21, test_size = 0.2)\n",
    "\n",
    "# check the dimensions of the train & test subset using 'shape'\n",
    "# print dimension of train set\n",
    "print('X_train', X_train.shape)\n",
    "print('y_train', y_train.shape)\n",
    "\n",
    "# print dimension of test set\n",
    "print('X_test', X_test.shape)\n",
    "print('y_test', y_test.shape)"
   ]
  },
  {
   "cell_type": "markdown",
   "id": "df8a000a",
   "metadata": {},
   "source": [
    "## Checking whether our Dataset is Balanced or Imbalanced"
   ]
  },
  {
   "cell_type": "code",
   "execution_count": 50,
   "id": "d403e6ac",
   "metadata": {},
   "outputs": [
    {
     "data": {
      "image/png": "[encoded data removed]",
      "text/plain": [
       "<Figure size 640x480 with 1 Axes>"
      ]
     },
     "metadata": {},
     "output_type": "display_data"
    }
   ],
   "source": [
    "# import 'Seaborn' \n",
    "import seaborn as sns\n",
    "\n",
    "# consider only the target variable\n",
    "df_target = sample_df['Application Status'].copy()\n",
    "\n",
    "# get counts of 0's and 1's in the 'Chance of Admit' variable\n",
    "df_target.value_counts()\n",
    "\n",
    "# plot the countplot of the variable 'Chance of Admit'\n",
    "sns.countplot(x = df_target)\n",
    "\n",
    "# use below code to print the values in the graph\n",
    "# 'x' and 'y' gives position of the text\n",
    "# 's' is the text \n",
    "plt.text(x = -0.05, y = df_target.value_counts()[0] + 1, s = str(round((df_target.value_counts()[0])*100/len(df_target),2)) + '%')\n",
    "plt.text(x = 0.95, y = df_target.value_counts()[1] +1, s = str(round((df_target.value_counts()[1])*100/len(df_target),2)) + '%')\n",
    "\n",
    "# add plot and axes labels\n",
    "# set text size using 'fontsize'\n",
    "plt.title('Count Plot for Target Variable (Chance of Admit)', fontsize = 15)\n",
    "plt.xlabel('Target Variable', fontsize = 15)\n",
    "plt.ylabel('Count', fontsize = 15)\n",
    "\n",
    "# to show the plot\n",
    "plt.show()"
   ]
  },
  {
   "cell_type": "markdown",
   "id": "3edf2114",
   "metadata": {},
   "source": [
    "The dataset is imbalanced, with the 'APPROVED' class representing 67% of the data and the 'DECLINED' class constituting 33%. To address this imbalance, I employed a smoothing technique of oversampling. This approach involves generating additional synthetic samples for the minority class ('DECLINED') to balance the class distribution. By doing so, we ensure that the model is trained on a more balanced dataset, which helps improve its performance and generalization across both classes."
   ]
  },
  {
   "cell_type": "code",
   "execution_count": 51,
   "id": "6b1f9661",
   "metadata": {},
   "outputs": [
    {
     "name": "stdout",
     "output_type": "stream",
     "text": [
      "X_train (8000, 12)\n",
      "y_train (8000, 1)\n",
      "X_test (2000, 12)\n",
      "y_test (2000, 1)\n",
      "Original class distribution in y_train: Counter({'Application Status_APPROVED': 1})\n",
      "Resampled class distribution in y_train_resampled: Counter({'Application Status_APPROVED': 1})\n",
      "X_train_resampled (10628, 12)\n",
      "y_train_resampled (10628, 1)\n"
     ]
    }
   ],
   "source": [
    "# import train-test split \n",
    "from sklearn.model_selection import train_test_split\n",
    "\n",
    "# split data into train subset and test subset\n",
    "# set 'random_state' to generate the same dataset each time you run the code \n",
    "# 'test_size' returns the proportion of data to be included in the testing set\n",
    "X_train, X_test, y_train, y_test = train_test_split(X, y, random_state = 21, test_size = 0.2)\n",
    "\n",
    "# check the dimensions of the train & test subset using 'shape'\n",
    "# print dimension of train set\n",
    "print('X_train', X_train.shape)\n",
    "print('y_train', y_train.shape)\n",
    "\n",
    "# print dimension of test set\n",
    "print('X_test', X_test.shape)\n",
    "print('y_test', y_test.shape)\n",
    "\n",
    "# Check the original class distribution in the training set\n",
    "print('Original class distribution in y_train:', Counter(y_train))\n",
    "\n",
    "# Initialize the SMOTE\n",
    "smote = SMOTE(sampling_strategy='auto', random_state=21)\n",
    "\n",
    "# Apply SMOTE\n",
    "X_train_resampled, y_train_resampled = smote.fit_resample(X_train, y_train)\n",
    "\n",
    "# Check the resampled class distribution\n",
    "print('Resampled class distribution in y_train_resampled:', Counter(y_train_resampled))\n",
    "\n",
    "# Check dimensions of the resampled data\n",
    "print('X_train_resampled', X_train_resampled.shape)\n",
    "print('y_train_resampled', y_train_resampled.shape)"
   ]
  },
  {
   "cell_type": "code",
   "execution_count": 52,
   "id": "2b30502b",
   "metadata": {},
   "outputs": [],
   "source": [
    "# create a generalized function to calculate the metrics values for train set\n",
    "def get_train_report(model):\n",
    "    \n",
    "    # for training set:\n",
    "    # train_pred: prediction made by the model on the train dataset 'X_train'\n",
    "    # y_train: actual values of the target variable for the train dataset\n",
    "\n",
    "    # predict the output of the target variable from the train data \n",
    "    train_pred = model.predict(X_train_resampled)\n",
    "\n",
    "    # return the performace measures on train set\n",
    "    return(classification_report(y_train_resampled, train_pred))"
   ]
  },
  {
   "cell_type": "code",
   "execution_count": 53,
   "id": "def27a56",
   "metadata": {},
   "outputs": [],
   "source": [
    "# create a generalized function to calculate the metrics values for test set\n",
    "def get_test_report(model):\n",
    "    \n",
    "    # for test set:\n",
    "    # test_pred: prediction made by the model on the test dataset 'X_test'\n",
    "    # y_test: actual values of the target variable for the test dataset\n",
    "\n",
    "    # predict the output of the target variable from the test data \n",
    "    test_pred = model.predict(X_test)\n",
    "\n",
    "    # return the performace measures on test set\n",
    "    return((classification_report(y_test, test_pred)))"
   ]
  },
  {
   "cell_type": "code",
   "execution_count": 54,
   "id": "34be058b",
   "metadata": {},
   "outputs": [],
   "source": [
    "def get_confusion_matrix(model):\n",
    "    \n",
    "    # for test set:\n",
    "    # test_pred: prediction made by the model on the test dataset 'X_test'\n",
    "    # y_test: actual values of the target variable for the test dataset\n",
    "\n",
    "    # predict the output of the target variable from the test data \n",
    "    test_pred = model.predict(X_test)\n",
    "    \n",
    "    cm = confusion_matrix(y_test, test_pred)\n",
    "\n",
    "\n",
    "    # return the performace measures on test set\n",
    "    return cm"
   ]
  },
  {
   "cell_type": "markdown",
   "id": "c90d5710",
   "metadata": {},
   "source": [
    "## Logistic regression"
   ]
  },
  {
   "cell_type": "code",
   "execution_count": 55,
   "id": "a67a5eb2",
   "metadata": {},
   "outputs": [
    {
     "name": "stdout",
     "output_type": "stream",
     "text": [
      "Confusion Matrix:\n",
      "[[ 594   43]\n",
      " [ 273 1090]]\n"
     ]
    }
   ],
   "source": [
    "logreg_model = LogisticRegression()\n",
    "logestic_model = logreg_model.fit(X_train_resampled,y_train_resampled)\n",
    "\n",
    "# Make predictions on the test set\n",
    "y_test_pred = logestic_model.predict(X_test)\n",
    "\n",
    "# Generate the confusion matrix\n",
    "conf_matrix = confusion_matrix(y_test, y_test_pred)\n",
    "\n",
    "# Print the confusion matrix\n",
    "print(\"Confusion Matrix:\")\n",
    "print(conf_matrix)"
   ]
  },
  {
   "cell_type": "code",
   "execution_count": 56,
   "id": "7b377a5b",
   "metadata": {},
   "outputs": [
    {
     "name": "stdout",
     "output_type": "stream",
     "text": [
      "Train Report:\n",
      "               precision    recall  f1-score   support\n",
      "\n",
      "           0       0.82      0.95      0.88      5314\n",
      "           1       0.94      0.80      0.86      5314\n",
      "\n",
      "    accuracy                           0.87     10628\n",
      "   macro avg       0.88      0.87      0.87     10628\n",
      "weighted avg       0.88      0.87      0.87     10628\n",
      "\n"
     ]
    }
   ],
   "source": [
    "train_report = get_train_report(logestic_model)\n",
    "\n",
    "print('Train Report:\\n', train_report)"
   ]
  },
  {
   "cell_type": "code",
   "execution_count": 57,
   "id": "5f15689c",
   "metadata": {},
   "outputs": [
    {
     "name": "stdout",
     "output_type": "stream",
     "text": [
      "Test Report:\n",
      "               precision    recall  f1-score   support\n",
      "\n",
      "           0       0.69      0.93      0.79       637\n",
      "           1       0.96      0.80      0.87      1363\n",
      "\n",
      "    accuracy                           0.84      2000\n",
      "   macro avg       0.82      0.87      0.83      2000\n",
      "weighted avg       0.87      0.84      0.85      2000\n",
      "\n"
     ]
    }
   ],
   "source": [
    "test_report  = get_test_report(logestic_model)\n",
    "print('Test Report:\\n', test_report)"
   ]
  },
  {
   "cell_type": "markdown",
   "id": "a8127764",
   "metadata": {},
   "source": [
    "#### Here are the observations based on your logistic regression model:\n",
    "\n",
    "1. The model performs better in identifying 'APPROVED' (Class 1) than 'DECLINED' (Class 0) in both training and test sets.\n",
    "2. Recall for 'DECLINED' is high, indicating good detection of the minority class, but precision is lower, especially in the test set.\n",
    "3. Precision for 'DECLINED' drops from 0.82 in training to 0.69 in testing, suggesting reduced effectiveness on unseen data.\n",
    "4. The model's accuracy is slightly lower on the test set (0.84) compared to the training set (0.87), indicating some overfitting.\n",
    "5. The F1-score for 'APPROVED' is higher in both sets, reflecting better balance between precision and recall for the majority class."
   ]
  },
  {
   "cell_type": "markdown",
   "id": "a2508cc8",
   "metadata": {},
   "source": [
    "## Random forest classifier"
   ]
  },
  {
   "cell_type": "code",
   "execution_count": 58,
   "id": "f11eda38",
   "metadata": {},
   "outputs": [
    {
     "name": "stdout",
     "output_type": "stream",
     "text": [
      "Confusion Matrix:\n",
      "[[ 540   97]\n",
      " [ 202 1161]]\n"
     ]
    }
   ],
   "source": [
    "# instantiate the 'RandomForestClassifier'\n",
    "# pass the required number of trees in the random forest to the parameter, 'n_estimators'\n",
    "# pass the 'random_state' to obtain the same samples for each time you run the code\n",
    "rf_classification = RandomForestClassifier(n_estimators = 10, random_state = 10)\n",
    "\n",
    "# use fit() to fit the model on the train set\n",
    "rf_model = rf_classification.fit(X_train_resampled, y_train_resampled)\n",
    "\n",
    "# Predicting the target variable for the test set\n",
    "y_test_pred = rf_model.predict(X_test)\n",
    "\n",
    "# Generating the confusion matrix\n",
    "conf_matrix = confusion_matrix(y_test, y_test_pred)\n",
    "\n",
    "# Printing the confusion matrix\n",
    "print(\"Confusion Matrix:\")\n",
    "print(conf_matrix)"
   ]
  },
  {
   "cell_type": "code",
   "execution_count": 59,
   "id": "d6923c20",
   "metadata": {},
   "outputs": [
    {
     "name": "stdout",
     "output_type": "stream",
     "text": [
      "              precision    recall  f1-score   support\n",
      "\n",
      "           0       0.96      0.99      0.97      5314\n",
      "           1       0.99      0.95      0.97      5314\n",
      "\n",
      "    accuracy                           0.97     10628\n",
      "   macro avg       0.97      0.97      0.97     10628\n",
      "weighted avg       0.97      0.97      0.97     10628\n",
      "\n"
     ]
    }
   ],
   "source": [
    "# compute the performance measures on train data\n",
    "# call the function 'get_train_report'\n",
    "# pass the random forest model to the function\n",
    "train_report = get_train_report(rf_model)\n",
    "\n",
    "# print the performace measures\n",
    "print(train_report) \n"
   ]
  },
  {
   "cell_type": "code",
   "execution_count": 60,
   "id": "332bbc10",
   "metadata": {},
   "outputs": [
    {
     "name": "stdout",
     "output_type": "stream",
     "text": [
      "              precision    recall  f1-score   support\n",
      "\n",
      "           0       0.73      0.85      0.78       637\n",
      "           1       0.92      0.85      0.89      1363\n",
      "\n",
      "    accuracy                           0.85      2000\n",
      "   macro avg       0.83      0.85      0.83      2000\n",
      "weighted avg       0.86      0.85      0.85      2000\n",
      "\n"
     ]
    }
   ],
   "source": [
    "# compute the performance measures on test data\n",
    "# call the function 'get_test_report'\n",
    "# pass the random forest model to the function\n",
    "test_report = get_test_report(rf_model)\n",
    "\n",
    "# print the performace measures\n",
    "print(test_report) "
   ]
  },
  {
   "cell_type": "markdown",
   "id": "94f22e92",
   "metadata": {},
   "source": [
    "#### Here are the observations for the Random Forest classifier:\n",
    "\n",
    "1. The model performs well in identifying 'APPROVED' (Class 1) with high precision and recall in both training and test sets.\n",
    "2. The recall for 'DECLINED' (Class 0) is lower in the test set (0.85) compared to the training set (0.99), indicating reduced performance on unseen data.\n",
    "3. Precision for 'DECLINED' drops from 0.96 in training to 0.73 in testing, suggesting challenges in classifying the minority class effectively on the test set.\n",
    "4. The accuracy of the model is slightly lower on the test set (0.85) compared to the training set (0.97), which could indicate some overfitting.\n",
    "5. The F1-score for 'APPROVED' is high in both sets, showing a good balance between precision and recall for the majority class."
   ]
  },
  {
   "cell_type": "markdown",
   "id": "aa537332",
   "metadata": {},
   "source": [
    "## Decision tree Classifier"
   ]
  },
  {
   "cell_type": "code",
   "execution_count": 61,
   "id": "6aff66fc",
   "metadata": {},
   "outputs": [
    {
     "name": "stdout",
     "output_type": "stream",
     "text": [
      "Confusion Matrix:\n",
      "[[ 530  107]\n",
      " [ 199 1164]]\n"
     ]
    }
   ],
   "source": [
    "# instantiate the 'DecisionTreeClassifier' object using 'entropy' criterion\n",
    "# pass the 'random_state' to obtain the same samples for each time you run the code\n",
    "decision_tree_classification = DecisionTreeClassifier(criterion = 'entropy', random_state = 10)\n",
    "\n",
    "# fit the model using fit() on train data\n",
    "decision_tree = decision_tree_classification.fit(X_train_resampled, y_train_resampled)\n",
    "\n",
    "# Predicting the target variable for the test set\n",
    "y_test_pred = decision_tree.predict(X_test)\n",
    "\n",
    "# Generating the confusion matrix\n",
    "conf_matrix = confusion_matrix(y_test, y_test_pred)\n",
    "\n",
    "# Printing the confusion matrix\n",
    "print(\"Confusion Matrix:\")\n",
    "print(conf_matrix)"
   ]
  },
  {
   "cell_type": "code",
   "execution_count": 62,
   "id": "1f6ed1c4",
   "metadata": {},
   "outputs": [
    {
     "name": "stdout",
     "output_type": "stream",
     "text": [
      "              precision    recall  f1-score   support\n",
      "\n",
      "           0       0.97      0.99      0.98      5314\n",
      "           1       0.99      0.97      0.98      5314\n",
      "\n",
      "    accuracy                           0.98     10628\n",
      "   macro avg       0.98      0.98      0.98     10628\n",
      "weighted avg       0.98      0.98      0.98     10628\n",
      "\n"
     ]
    }
   ],
   "source": [
    "# compute the performance measures on train data\n",
    "# call the function 'get_train_report'\n",
    "# pass the decision tree to the function\n",
    "train_report = get_train_report(decision_tree)\n",
    "\n",
    "# print the performance measures\n",
    "print(train_report)"
   ]
  },
  {
   "cell_type": "code",
   "execution_count": 63,
   "id": "a8c2ac4e",
   "metadata": {},
   "outputs": [
    {
     "name": "stdout",
     "output_type": "stream",
     "text": [
      "              precision    recall  f1-score   support\n",
      "\n",
      "           0       0.73      0.83      0.78       637\n",
      "           1       0.92      0.85      0.88      1363\n",
      "\n",
      "    accuracy                           0.85      2000\n",
      "   macro avg       0.82      0.84      0.83      2000\n",
      "weighted avg       0.86      0.85      0.85      2000\n",
      "\n"
     ]
    }
   ],
   "source": [
    "# compute the performance measures on test data\n",
    "# call the function 'get_test_report'\n",
    "# pass the decision tree to the function\n",
    "test_report = get_test_report(decision_tree)\n",
    "\n",
    "# print the performance measures\n",
    "print(test_report)"
   ]
  },
  {
   "cell_type": "markdown",
   "id": "d375b92d",
   "metadata": {},
   "source": [
    "#### Here are the observations for the Decision Tree classifier:\n",
    "\n",
    "1. The model shows strong performance in both precision and recall for 'APPROVED' (Class 1) in training, with high values in both metrics.\n",
    "2. The recall for 'DECLINED' (Class 0) is lower on the test set (0.83) compared to the training set (0.99), indicating a decrease in performance on new data.\n",
    "3. Precision for 'DECLINED' falls from 0.97 in training to 0.73 in testing, suggesting a drop in the model’s ability to classify the minority class accurately.\n",
    "4. The accuracy on the test set is 0.85, which is lower than the training accuracy of 0.98, indicating potential overfitting.\n",
    "5. The F1-score for 'APPROVED' remains high across both sets, reflecting a consistent balance between precision and recall for the majority class."
   ]
  },
  {
   "cell_type": "markdown",
   "id": "0f4e1d2a",
   "metadata": {},
   "source": [
    "## Hyper parameter tuning for Decision Tree Classifier using RandomizedSearchCV"
   ]
  },
  {
   "cell_type": "code",
   "execution_count": 64,
   "id": "fd9d512f",
   "metadata": {},
   "outputs": [
    {
     "name": "stdout",
     "output_type": "stream",
     "text": [
      "Fitting 3 folds for each of 10 candidates, totalling 30 fits\n",
      "Best hyperparameters for Decision Tree: {'min_samples_split': 20, 'min_samples_leaf': 10, 'max_features': None, 'max_depth': 10, 'criterion': 'gini'}\n",
      "Best Decision Tree score: 0.8785294846849167\n"
     ]
    }
   ],
   "source": [
    "from sklearn.model_selection import RandomizedSearchCV\n",
    "from sklearn.tree import DecisionTreeClassifier\n",
    "\n",
    "# Initialize the DecisionTreeClassifier\n",
    "decision_tree = DecisionTreeClassifier(random_state=10)\n",
    "\n",
    "# Define the hyperparameter grid for tuning\n",
    "param_grid_dt = {\n",
    "    'criterion': ['gini', 'entropy'],       # Splitting criteria\n",
    "    'max_depth': [5, 10, 20, None],         # Max depth of the tree\n",
    "    'min_samples_split': [2, 10, 20],       # Minimum samples required to split a node\n",
    "    'min_samples_leaf': [1, 5, 10],         # Minimum samples required at a leaf node\n",
    "    'max_features': [None, 'sqrt', 'log2']  # Number of features to consider for the best split\n",
    "}\n",
    "\n",
    "# Initialize RandomizedSearchCV for Decision Tree\n",
    "random_search_dt = RandomizedSearchCV(decision_tree, param_grid_dt, \n",
    "                                      n_iter=10, scoring='accuracy', \n",
    "                                      cv=3, random_state=10, verbose=1, n_jobs=-1)\n",
    "\n",
    "# Fit the RandomizedSearchCV on the training data\n",
    "random_search_dt.fit(X_train_resampled, y_train_resampled)\n",
    "\n",
    "# Print the best hyperparameters for Decision Tree\n",
    "print(\"Best hyperparameters for Decision Tree:\", random_search_dt.best_params_)\n",
    "print(\"Best Decision Tree score:\", random_search_dt.best_score_)\n"
   ]
  },
  {
   "cell_type": "markdown",
   "id": "b114c563",
   "metadata": {},
   "source": [
    "## Hyper parameter tuning for RandomForest Classifier using RandomizedSearchCV"
   ]
  },
  {
   "cell_type": "code",
   "execution_count": 65,
   "id": "7e73bfba",
   "metadata": {},
   "outputs": [
    {
     "name": "stdout",
     "output_type": "stream",
     "text": [
      "Fitting 3 folds for each of 10 candidates, totalling 30 fits\n"
     ]
    },
    {
     "name": "stderr",
     "output_type": "stream",
     "text": [
      "/home/krishna/anaconda3/lib/python3.11/site-packages/sklearn/model_selection/_validation.py:686: DataConversionWarning: A column-vector y was passed when a 1d array was expected. Please change the shape of y to (n_samples,), for example using ravel().\n",
      "  estimator.fit(X_train, y_train, **fit_params)\n",
      "/home/krishna/anaconda3/lib/python3.11/site-packages/sklearn/model_selection/_validation.py:686: DataConversionWarning: A column-vector y was passed when a 1d array was expected. Please change the shape of y to (n_samples,), for example using ravel().\n",
      "  estimator.fit(X_train, y_train, **fit_params)\n",
      "/home/krishna/anaconda3/lib/python3.11/site-packages/sklearn/model_selection/_validation.py:686: DataConversionWarning: A column-vector y was passed when a 1d array was expected. Please change the shape of y to (n_samples,), for example using ravel().\n",
      "  estimator.fit(X_train, y_train, **fit_params)\n",
      "/home/krishna/anaconda3/lib/python3.11/site-packages/sklearn/model_selection/_validation.py:686: DataConversionWarning: A column-vector y was passed when a 1d array was expected. Please change the shape of y to (n_samples,), for example using ravel().\n",
      "  estimator.fit(X_train, y_train, **fit_params)\n",
      "/home/krishna/anaconda3/lib/python3.11/site-packages/sklearn/model_selection/_validation.py:686: DataConversionWarning: A column-vector y was passed when a 1d array was expected. Please change the shape of y to (n_samples,), for example using ravel().\n",
      "  estimator.fit(X_train, y_train, **fit_params)\n",
      "/home/krishna/anaconda3/lib/python3.11/site-packages/sklearn/model_selection/_validation.py:686: DataConversionWarning: A column-vector y was passed when a 1d array was expected. Please change the shape of y to (n_samples,), for example using ravel().\n",
      "  estimator.fit(X_train, y_train, **fit_params)\n",
      "/home/krishna/anaconda3/lib/python3.11/site-packages/sklearn/model_selection/_validation.py:686: DataConversionWarning: A column-vector y was passed when a 1d array was expected. Please change the shape of y to (n_samples,), for example using ravel().\n",
      "  estimator.fit(X_train, y_train, **fit_params)\n",
      "/home/krishna/anaconda3/lib/python3.11/site-packages/sklearn/ensemble/_forest.py:424: FutureWarning: `max_features='auto'` has been deprecated in 1.1 and will be removed in 1.3. To keep the past behaviour, explicitly set `max_features='sqrt'` or remove this parameter as it is also the default value for RandomForestClassifiers and ExtraTreesClassifiers.\n",
      "  warn(\n",
      "/home/krishna/anaconda3/lib/python3.11/site-packages/sklearn/ensemble/_forest.py:424: FutureWarning: `max_features='auto'` has been deprecated in 1.1 and will be removed in 1.3. To keep the past behaviour, explicitly set `max_features='sqrt'` or remove this parameter as it is also the default value for RandomForestClassifiers and ExtraTreesClassifiers.\n",
      "  warn(\n",
      "/home/krishna/anaconda3/lib/python3.11/site-packages/sklearn/ensemble/_forest.py:424: FutureWarning: `max_features='auto'` has been deprecated in 1.1 and will be removed in 1.3. To keep the past behaviour, explicitly set `max_features='sqrt'` or remove this parameter as it is also the default value for RandomForestClassifiers and ExtraTreesClassifiers.\n",
      "  warn(\n",
      "/home/krishna/anaconda3/lib/python3.11/site-packages/sklearn/model_selection/_validation.py:686: DataConversionWarning: A column-vector y was passed when a 1d array was expected. Please change the shape of y to (n_samples,), for example using ravel().\n",
      "  estimator.fit(X_train, y_train, **fit_params)\n",
      "/home/krishna/anaconda3/lib/python3.11/site-packages/sklearn/ensemble/_forest.py:424: FutureWarning: `max_features='auto'` has been deprecated in 1.1 and will be removed in 1.3. To keep the past behaviour, explicitly set `max_features='sqrt'` or remove this parameter as it is also the default value for RandomForestClassifiers and ExtraTreesClassifiers.\n",
      "  warn(\n",
      "/home/krishna/anaconda3/lib/python3.11/site-packages/sklearn/model_selection/_validation.py:686: DataConversionWarning: A column-vector y was passed when a 1d array was expected. Please change the shape of y to (n_samples,), for example using ravel().\n",
      "  estimator.fit(X_train, y_train, **fit_params)\n",
      "/home/krishna/anaconda3/lib/python3.11/site-packages/sklearn/ensemble/_forest.py:424: FutureWarning: `max_features='auto'` has been deprecated in 1.1 and will be removed in 1.3. To keep the past behaviour, explicitly set `max_features='sqrt'` or remove this parameter as it is also the default value for RandomForestClassifiers and ExtraTreesClassifiers.\n",
      "  warn(\n",
      "/home/krishna/anaconda3/lib/python3.11/site-packages/sklearn/model_selection/_validation.py:686: DataConversionWarning: A column-vector y was passed when a 1d array was expected. Please change the shape of y to (n_samples,), for example using ravel().\n",
      "  estimator.fit(X_train, y_train, **fit_params)\n",
      "/home/krishna/anaconda3/lib/python3.11/site-packages/sklearn/ensemble/_forest.py:424: FutureWarning: `max_features='auto'` has been deprecated in 1.1 and will be removed in 1.3. To keep the past behaviour, explicitly set `max_features='sqrt'` or remove this parameter as it is also the default value for RandomForestClassifiers and ExtraTreesClassifiers.\n",
      "  warn(\n",
      "/home/krishna/anaconda3/lib/python3.11/site-packages/sklearn/model_selection/_validation.py:686: DataConversionWarning: A column-vector y was passed when a 1d array was expected. Please change the shape of y to (n_samples,), for example using ravel().\n",
      "  estimator.fit(X_train, y_train, **fit_params)\n",
      "/home/krishna/anaconda3/lib/python3.11/site-packages/sklearn/model_selection/_validation.py:686: DataConversionWarning: A column-vector y was passed when a 1d array was expected. Please change the shape of y to (n_samples,), for example using ravel().\n",
      "  estimator.fit(X_train, y_train, **fit_params)\n",
      "/home/krishna/anaconda3/lib/python3.11/site-packages/sklearn/model_selection/_validation.py:686: DataConversionWarning: A column-vector y was passed when a 1d array was expected. Please change the shape of y to (n_samples,), for example using ravel().\n",
      "  estimator.fit(X_train, y_train, **fit_params)\n",
      "/home/krishna/anaconda3/lib/python3.11/site-packages/sklearn/model_selection/_validation.py:686: DataConversionWarning: A column-vector y was passed when a 1d array was expected. Please change the shape of y to (n_samples,), for example using ravel().\n",
      "  estimator.fit(X_train, y_train, **fit_params)\n",
      "/home/krishna/anaconda3/lib/python3.11/site-packages/sklearn/model_selection/_validation.py:686: DataConversionWarning: A column-vector y was passed when a 1d array was expected. Please change the shape of y to (n_samples,), for example using ravel().\n",
      "  estimator.fit(X_train, y_train, **fit_params)\n",
      "/home/krishna/anaconda3/lib/python3.11/site-packages/sklearn/model_selection/_validation.py:686: DataConversionWarning: A column-vector y was passed when a 1d array was expected. Please change the shape of y to (n_samples,), for example using ravel().\n",
      "  estimator.fit(X_train, y_train, **fit_params)\n",
      "/home/krishna/anaconda3/lib/python3.11/site-packages/sklearn/model_selection/_validation.py:686: DataConversionWarning: A column-vector y was passed when a 1d array was expected. Please change the shape of y to (n_samples,), for example using ravel().\n",
      "  estimator.fit(X_train, y_train, **fit_params)\n",
      "/home/krishna/anaconda3/lib/python3.11/site-packages/sklearn/model_selection/_validation.py:686: DataConversionWarning: A column-vector y was passed when a 1d array was expected. Please change the shape of y to (n_samples,), for example using ravel().\n",
      "  estimator.fit(X_train, y_train, **fit_params)\n",
      "/home/krishna/anaconda3/lib/python3.11/site-packages/sklearn/model_selection/_validation.py:686: DataConversionWarning: A column-vector y was passed when a 1d array was expected. Please change the shape of y to (n_samples,), for example using ravel().\n",
      "  estimator.fit(X_train, y_train, **fit_params)\n",
      "/home/krishna/anaconda3/lib/python3.11/site-packages/sklearn/model_selection/_validation.py:686: DataConversionWarning: A column-vector y was passed when a 1d array was expected. Please change the shape of y to (n_samples,), for example using ravel().\n",
      "  estimator.fit(X_train, y_train, **fit_params)\n",
      "/home/krishna/anaconda3/lib/python3.11/site-packages/sklearn/model_selection/_validation.py:686: DataConversionWarning: A column-vector y was passed when a 1d array was expected. Please change the shape of y to (n_samples,), for example using ravel().\n",
      "  estimator.fit(X_train, y_train, **fit_params)\n",
      "/home/krishna/anaconda3/lib/python3.11/site-packages/sklearn/model_selection/_validation.py:686: DataConversionWarning: A column-vector y was passed when a 1d array was expected. Please change the shape of y to (n_samples,), for example using ravel().\n",
      "  estimator.fit(X_train, y_train, **fit_params)\n",
      "/home/krishna/anaconda3/lib/python3.11/site-packages/sklearn/model_selection/_validation.py:686: DataConversionWarning: A column-vector y was passed when a 1d array was expected. Please change the shape of y to (n_samples,), for example using ravel().\n",
      "  estimator.fit(X_train, y_train, **fit_params)\n",
      "/home/krishna/anaconda3/lib/python3.11/site-packages/sklearn/model_selection/_validation.py:686: DataConversionWarning: A column-vector y was passed when a 1d array was expected. Please change the shape of y to (n_samples,), for example using ravel().\n",
      "  estimator.fit(X_train, y_train, **fit_params)\n",
      "/home/krishna/anaconda3/lib/python3.11/site-packages/sklearn/model_selection/_validation.py:686: DataConversionWarning: A column-vector y was passed when a 1d array was expected. Please change the shape of y to (n_samples,), for example using ravel().\n",
      "  estimator.fit(X_train, y_train, **fit_params)\n",
      "/home/krishna/anaconda3/lib/python3.11/site-packages/sklearn/model_selection/_validation.py:686: DataConversionWarning: A column-vector y was passed when a 1d array was expected. Please change the shape of y to (n_samples,), for example using ravel().\n",
      "  estimator.fit(X_train, y_train, **fit_params)\n",
      "/home/krishna/anaconda3/lib/python3.11/site-packages/sklearn/model_selection/_validation.py:686: DataConversionWarning: A column-vector y was passed when a 1d array was expected. Please change the shape of y to (n_samples,), for example using ravel().\n",
      "  estimator.fit(X_train, y_train, **fit_params)\n"
     ]
    },
    {
     "name": "stderr",
     "output_type": "stream",
     "text": [
      "/home/krishna/anaconda3/lib/python3.11/site-packages/sklearn/model_selection/_validation.py:686: DataConversionWarning: A column-vector y was passed when a 1d array was expected. Please change the shape of y to (n_samples,), for example using ravel().\n",
      "  estimator.fit(X_train, y_train, **fit_params)\n",
      "/home/krishna/anaconda3/lib/python3.11/site-packages/sklearn/model_selection/_validation.py:686: DataConversionWarning: A column-vector y was passed when a 1d array was expected. Please change the shape of y to (n_samples,), for example using ravel().\n",
      "  estimator.fit(X_train, y_train, **fit_params)\n",
      "/home/krishna/anaconda3/lib/python3.11/site-packages/sklearn/ensemble/_forest.py:424: FutureWarning: `max_features='auto'` has been deprecated in 1.1 and will be removed in 1.3. To keep the past behaviour, explicitly set `max_features='sqrt'` or remove this parameter as it is also the default value for RandomForestClassifiers and ExtraTreesClassifiers.\n",
      "  warn(\n",
      "/home/krishna/anaconda3/lib/python3.11/site-packages/sklearn/ensemble/_forest.py:424: FutureWarning: `max_features='auto'` has been deprecated in 1.1 and will be removed in 1.3. To keep the past behaviour, explicitly set `max_features='sqrt'` or remove this parameter as it is also the default value for RandomForestClassifiers and ExtraTreesClassifiers.\n",
      "  warn(\n",
      "/home/krishna/anaconda3/lib/python3.11/site-packages/sklearn/model_selection/_validation.py:686: DataConversionWarning: A column-vector y was passed when a 1d array was expected. Please change the shape of y to (n_samples,), for example using ravel().\n",
      "  estimator.fit(X_train, y_train, **fit_params)\n",
      "/home/krishna/anaconda3/lib/python3.11/site-packages/sklearn/ensemble/_forest.py:424: FutureWarning: `max_features='auto'` has been deprecated in 1.1 and will be removed in 1.3. To keep the past behaviour, explicitly set `max_features='sqrt'` or remove this parameter as it is also the default value for RandomForestClassifiers and ExtraTreesClassifiers.\n",
      "  warn(\n"
     ]
    },
    {
     "name": "stdout",
     "output_type": "stream",
     "text": [
      "Best hyperparameters for Random Forest: {'n_estimators': 100, 'min_samples_split': 2, 'min_samples_leaf': 1, 'max_features': 'sqrt', 'max_depth': 20, 'criterion': 'entropy'}\n",
      "Best Random Forest score: 0.8916090127480621\n"
     ]
    }
   ],
   "source": [
    "from sklearn.ensemble import RandomForestClassifier\n",
    "\n",
    "# Initialize the RandomForestClassifier\n",
    "random_forest = RandomForestClassifier(random_state=10)\n",
    "\n",
    "# Define the hyperparameter grid for tuning\n",
    "param_grid_rf = {\n",
    "    'n_estimators': [50, 100, 200],                # Number of trees in the forest\n",
    "    'criterion': ['gini', 'entropy'],              # Splitting criteria\n",
    "    'max_depth': [10, 20, 30, None],               # Max depth of the trees\n",
    "    'min_samples_split': [2, 10, 20],              # Minimum samples required to split a node\n",
    "    'min_samples_leaf': [1, 5, 10],                # Minimum samples required at a leaf node\n",
    "    'max_features': ['auto', 'sqrt', 'log2']       # Number of features considered for the best split\n",
    "}\n",
    "\n",
    "# Initialize RandomizedSearchCV for Random Forest\n",
    "random_search_rf = RandomizedSearchCV(random_forest, param_grid_rf, \n",
    "                                      n_iter=10, scoring='accuracy', \n",
    "                                      cv=3, random_state=10, verbose=1, n_jobs=-1)\n",
    "\n",
    "# Fit the RandomizedSearchCV on the training data\n",
    "random_search_rf.fit(X_train_resampled, y_train_resampled)\n",
    "\n",
    "# Print the best hyperparameters for Random Forest\n",
    "print(\"Best hyperparameters for Random Forest:\", random_search_rf.best_params_)\n",
    "print(\"Best Random Forest score:\", random_search_rf.best_score_)\n"
   ]
  },
  {
   "cell_type": "markdown",
   "id": "352c6da8",
   "metadata": {},
   "source": [
    "## Fiting Best Parameters in Decision Tree"
   ]
  },
  {
   "cell_type": "code",
   "execution_count": 66,
   "id": "a9bda7d3",
   "metadata": {},
   "outputs": [
    {
     "name": "stdout",
     "output_type": "stream",
     "text": [
      "Confusion Matrix:\n",
      "[[ 581   56]\n",
      " [ 232 1131]]\n",
      "\n",
      "Accuracy: 0.856\n",
      "Train Report:\n",
      "               precision    recall  f1-score   support\n",
      "\n",
      "           0       0.86      0.96      0.91      5314\n",
      "           1       0.95      0.85      0.90      5314\n",
      "\n",
      "    accuracy                           0.90     10628\n",
      "   macro avg       0.91      0.90      0.90     10628\n",
      "weighted avg       0.91      0.90      0.90     10628\n",
      "\n",
      "Test Report:\n",
      "               precision    recall  f1-score   support\n",
      "\n",
      "           0       0.71      0.91      0.80       637\n",
      "           1       0.95      0.83      0.89      1363\n",
      "\n",
      "    accuracy                           0.86      2000\n",
      "   macro avg       0.83      0.87      0.84      2000\n",
      "weighted avg       0.88      0.86      0.86      2000\n",
      "\n"
     ]
    }
   ],
   "source": [
    "from sklearn.tree import DecisionTreeClassifier\n",
    "from sklearn.metrics import confusion_matrix, accuracy_score\n",
    "\n",
    "# Instantiate the 'DecisionTreeClassifier' object using the best hyperparameters\n",
    "decision_tree_classification = DecisionTreeClassifier(\n",
    "    criterion='gini',                   # Use 'gini' as per the best parameters found\n",
    "    max_depth=10,                       # Best parameter\n",
    "    min_samples_split=20,               # Best parameter\n",
    "    min_samples_leaf=10,                # Best parameter\n",
    "    max_features=None,                  # Best parameter\n",
    "    random_state=10                     # Ensure reproducibility\n",
    ")\n",
    "\n",
    "# Fit the model using the fit() on the resampled training data\n",
    "decision_tree = decision_tree_classification.fit(X_train_resampled, y_train_resampled)\n",
    "\n",
    "# Predicting the target variable for the test set\n",
    "y_test_pred = decision_tree.predict(X_test)\n",
    "\n",
    "# Generating the confusion matrix\n",
    "conf_matrix = confusion_matrix(y_test, y_test_pred)\n",
    "\n",
    "# Calculating accuracy\n",
    "accuracy = accuracy_score(y_test, y_test_pred)\n",
    "\n",
    "# Printing the confusion matrix and accuracy\n",
    "print(\"Confusion Matrix:\")\n",
    "print(conf_matrix)\n",
    "print(\"\\nAccuracy:\", accuracy)\n",
    "\n",
    "train_report = get_train_report(decision_tree)\n",
    "\n",
    "print('Train Report:\\n', train_report)\n",
    "\n",
    "test_report  = get_test_report(decision_tree)\n",
    "print('Test Report:\\n', test_report)\n"
   ]
  },
  {
   "cell_type": "markdown",
   "id": "10852194",
   "metadata": {},
   "source": [
    "#### Here are the observations for the Decision Tree classifier after hyperparameter tuning:\n",
    "\n",
    "1. The model exhibits strong performance in precision and recall for 'APPROVED' (Class 1) during training, with high values in both metrics.\n",
    "2. Recall for 'DECLINED' (Class 0) drops from 0.99 in training to 0.83 in the test set, indicating reduced performance on unseen data.\n",
    "3. Precision for 'DECLINED' decreases from 0.97 in training to 0.71 in testing, suggesting diminished accuracy in identifying the minority class.\n",
    "4. The test set accuracy of 0.86 is lower than the training accuracy of 0.90, suggesting potential overfitting.\n",
    "5. The F1-score for 'APPROVED' remains high across both training and test sets, indicating a consistent balance between precision and recall for the majority class."
   ]
  },
  {
   "cell_type": "markdown",
   "id": "139f7cce",
   "metadata": {},
   "source": [
    "## Fiting Best Parameters in Random Forest"
   ]
  },
  {
   "cell_type": "code",
   "execution_count": 67,
   "id": "60b0a57d",
   "metadata": {},
   "outputs": [
    {
     "name": "stdout",
     "output_type": "stream",
     "text": [
      "Confusion Matrix:\n",
      "[[ 550   87]\n",
      " [ 195 1168]]\n",
      "\n",
      "Accuracy: 0.859\n",
      "Train Report:\n",
      "               precision    recall  f1-score   support\n",
      "\n",
      "           0       0.95      0.99      0.97      5314\n",
      "           1       0.99      0.95      0.97      5314\n",
      "\n",
      "    accuracy                           0.97     10628\n",
      "   macro avg       0.97      0.97      0.97     10628\n",
      "weighted avg       0.97      0.97      0.97     10628\n",
      "\n",
      "Test Report:\n",
      "               precision    recall  f1-score   support\n",
      "\n",
      "           0       0.74      0.86      0.80       637\n",
      "           1       0.93      0.86      0.89      1363\n",
      "\n",
      "    accuracy                           0.86      2000\n",
      "   macro avg       0.83      0.86      0.84      2000\n",
      "weighted avg       0.87      0.86      0.86      2000\n",
      "\n"
     ]
    }
   ],
   "source": [
    "from sklearn.ensemble import RandomForestClassifier\n",
    "from sklearn.metrics import confusion_matrix, accuracy_score\n",
    "\n",
    "# Instantiate the 'RandomForestClassifier' object using the best hyperparameters\n",
    "rf_classification = RandomForestClassifier(\n",
    "    n_estimators=100,            # Number of trees in the forest\n",
    "    max_depth=20,                # Maximum depth of the tree\n",
    "    min_samples_split=2,         # Minimum number of samples required to split an internal node\n",
    "    min_samples_leaf=1,          # Minimum number of samples required at a leaf node\n",
    "    max_features='sqrt',         # Number of features to consider when looking for the best split\n",
    "    criterion='entropy',         # Criterion for measuring the quality of a split\n",
    "    random_state=10              # Ensure reproducibility\n",
    ")\n",
    "\n",
    "# Fit the model using the fit() on the resampled training data\n",
    "rf_model = rf_classification.fit(X_train_resampled, y_train_resampled)\n",
    "\n",
    "# Predicting the target variable for the test set\n",
    "y_test_pred = rf_model.predict(X_test)\n",
    "\n",
    "# Generating the confusion matrix\n",
    "conf_matrix = confusion_matrix(y_test, y_test_pred)\n",
    "\n",
    "# Calculating accuracy\n",
    "accuracy = accuracy_score(y_test, y_test_pred)\n",
    "\n",
    "# Printing the confusion matrix and accuracy\n",
    "print(\"Confusion Matrix:\")\n",
    "print(conf_matrix)\n",
    "print(\"\\nAccuracy:\", accuracy)\n",
    "\n",
    "train_report = get_train_report(rf_model)\n",
    "\n",
    "print('Train Report:\\n', train_report)\n",
    "\n",
    "test_report  = get_test_report(rf_model)\n",
    "print('Test Report:\\n', test_report)\n",
    "\n"
   ]
  },
  {
   "cell_type": "markdown",
   "id": "b7a70d01",
   "metadata": {},
   "source": [
    "#### Here are the observations for the Random Forest Classifier after hyperparameter tuning:\n",
    "\n",
    "1. High Performance on Training Data: The model exhibits excellent precision and recall for both 'APPROVED' and 'DECLINED' during training, with an accuracy of 0.97, suggesting strong performance on the resampled training set.\n",
    "\n",
    "2. Slight Decline in Recall for 'DECLINED': The recall for 'DECLINED' (Class 0) drops from 0.99 in training to 0.86 on the test set, indicating a decrease in performance when predicting minority class instances on unseen data.\n",
    "\n",
    "3. Precision for 'DECLINED': Precision for 'DECLINED' falls from 0.95 in training to 0.74 in testing, meaning the model struggles a bit more with false positives on the test set.\n",
    "\n",
    "4. Balanced Performance on 'APPROVED': The precision and recall for 'APPROVED' (Class 1) remain high in both training (0.99) and testing (0.93), showing consistent performance for the majority class.\n",
    "\n",
    "5. Good Generalization: The test set accuracy of 0.86 is close to the training accuracy of 0.97, suggesting the model generalizes well with minimal overfitting, making it the best model among those tested."
   ]
  },
  {
   "cell_type": "markdown",
   "id": "8996cecf",
   "metadata": {},
   "source": [
    "## Hyper parameter tuning for GradientBoost Classifier using GridSearchCV"
   ]
  },
  {
   "cell_type": "code",
   "execution_count": 68,
   "id": "e2382767",
   "metadata": {},
   "outputs": [
    {
     "data": {
      "text/plain": [
       "'\\nfrom sklearn.ensemble import GradientBoostingClassifier\\nfrom sklearn.model_selection import GridSearchCV\\n\\n# Initialize GradientBoostingClassifier\\ngbm_classification = GradientBoostingClassifier(random_state=10)\\n\\n# Define the hyperparameter grid for tuning\\nparam_grid_gbm = {\\n    \\'n_estimators\\': [100, 200, 300],                # Number of boosting stages to be run\\n    \\'learning_rate\\': [0.01, 0.1, 0.2],             # Step size shrinks to prevent overfitting\\n    \\'max_depth\\': [3, 5, 7, 10],                    # Maximum depth of the individual trees\\n    \\'min_samples_split\\': [2, 5, 10],               # Minimum number of samples required to split an internal node\\n    \\'min_samples_leaf\\': [1, 2, 5],                 # Minimum number of samples required at a leaf node\\n    \\'subsample\\': [0.8, 0.9, 1.0]                  # Proportion of samples used for fitting the trees\\n}\\n\\n# Initialize GridSearchCV for Gradient Boosting\\ngrid_search_gbm = GridSearchCV(\\n    GradientBoostingClassifier(random_state=10),\\n    param_grid_gbm,\\n    scoring=\\'accuracy\\',\\n    cv=3,                           # Number of cross-validation folds\\n    verbose=1,                      # Verbosity level\\n    n_jobs=-1                       # Use all available cores\\n)\\n\\n# Fit the GridSearchCV\\ngrid_search_gbm.fit(X_train_resampled, y_train_resampled)\\n\\n# Print the best hyperparameters and score\\nprint(\"Best hyperparameters for Gradient Boosting:\", grid_search_gbm.best_params_)\\nprint(\"Best Gradient Boosting score:\", grid_search_gbm.best_score_)\\n'"
      ]
     },
     "execution_count": 68,
     "metadata": {},
     "output_type": "execute_result"
    }
   ],
   "source": [
    "'''\n",
    "from sklearn.ensemble import GradientBoostingClassifier\n",
    "from sklearn.model_selection import GridSearchCV\n",
    "\n",
    "# Initialize GradientBoostingClassifier\n",
    "gbm_classification = GradientBoostingClassifier(random_state=10)\n",
    "\n",
    "# Define the hyperparameter grid for tuning\n",
    "param_grid_gbm = {\n",
    "    'n_estimators': [100, 200, 300],                # Number of boosting stages to be run\n",
    "    'learning_rate': [0.01, 0.1, 0.2],             # Step size shrinks to prevent overfitting\n",
    "    'max_depth': [3, 5, 7, 10],                    # Maximum depth of the individual trees\n",
    "    'min_samples_split': [2, 5, 10],               # Minimum number of samples required to split an internal node\n",
    "    'min_samples_leaf': [1, 2, 5],                 # Minimum number of samples required at a leaf node\n",
    "    'subsample': [0.8, 0.9, 1.0]                  # Proportion of samples used for fitting the trees\n",
    "}\n",
    "\n",
    "# Initialize GridSearchCV for Gradient Boosting\n",
    "grid_search_gbm = GridSearchCV(\n",
    "    GradientBoostingClassifier(random_state=10),\n",
    "    param_grid_gbm,\n",
    "    scoring='accuracy',\n",
    "    cv=3,                           # Number of cross-validation folds\n",
    "    verbose=1,                      # Verbosity level\n",
    "    n_jobs=-1                       # Use all available cores\n",
    ")\n",
    "\n",
    "# Fit the GridSearchCV\n",
    "grid_search_gbm.fit(X_train_resampled, y_train_resampled)\n",
    "\n",
    "# Print the best hyperparameters and score\n",
    "print(\"Best hyperparameters for Gradient Boosting:\", grid_search_gbm.best_params_)\n",
    "print(\"Best Gradient Boosting score:\", grid_search_gbm.best_score_)\n",
    "'''"
   ]
  },
  {
   "cell_type": "markdown",
   "id": "a36649bd",
   "metadata": {},
   "source": [
    "Best hyperparameters for Gradient Boosting: {'learning_rate': 0.1, 'max_depth': 10, 'min_samples_leaf': 5, 'min_samples_split': 2, 'n_estimators': 100, 'subsample': 0.9}\n",
    "Best Gradient Boosting score: 0.8902921537387538"
   ]
  },
  {
   "cell_type": "markdown",
   "id": "c3ab0709",
   "metadata": {},
   "source": [
    "## Gradient Boosting Classifier"
   ]
  },
  {
   "cell_type": "code",
   "execution_count": 69,
   "id": "bb9356a9",
   "metadata": {},
   "outputs": [
    {
     "name": "stdout",
     "output_type": "stream",
     "text": [
      "Confusion Matrix:\n",
      "[[ 543   94]\n",
      " [ 192 1171]]\n",
      "\n",
      "Classification Report:\n",
      "              precision    recall  f1-score   support\n",
      "\n",
      "           0       0.74      0.85      0.79       637\n",
      "           1       0.93      0.86      0.89      1363\n",
      "\n",
      "    accuracy                           0.86      2000\n",
      "   macro avg       0.83      0.86      0.84      2000\n",
      "weighted avg       0.87      0.86      0.86      2000\n",
      "\n",
      "\n",
      "Accuracy: 0.857\n"
     ]
    }
   ],
   "source": [
    "from sklearn.ensemble import GradientBoostingClassifier\n",
    "from sklearn.metrics import confusion_matrix, classification_report, accuracy_score\n",
    "\n",
    "# Initialize GradientBoostingClassifier with the best hyperparameters\n",
    "best_gb_model = GradientBoostingClassifier(\n",
    "    learning_rate=0.1, \n",
    "    max_depth=10, \n",
    "    min_samples_leaf=5, \n",
    "    min_samples_split=2, \n",
    "    n_estimators=100, \n",
    "    subsample=0.9,\n",
    "    random_state=10\n",
    ")\n",
    "\n",
    "# Fit the model on the resampled training data\n",
    "best_gb_model.fit(X_train_resampled, y_train_resampled)\n",
    "\n",
    "# Predict the target variable for the test set\n",
    "y_test_pred = best_gb_model.predict(X_test)\n",
    "\n",
    "# Calculate and print the confusion matrix\n",
    "conf_matrix = confusion_matrix(y_test, y_test_pred)\n",
    "print(\"Confusion Matrix:\")\n",
    "print(conf_matrix)\n",
    "\n",
    "# Calculate and print the classification report\n",
    "classification_rep = classification_report(y_test, y_test_pred)\n",
    "print(\"\\nClassification Report:\")\n",
    "print(classification_rep)\n",
    "\n",
    "# Calculate and print the accuracy score\n",
    "accuracy = accuracy_score(y_test, y_test_pred)\n",
    "print(\"\\nAccuracy:\", accuracy)\n"
   ]
  },
  {
   "cell_type": "markdown",
   "id": "1152b659",
   "metadata": {},
   "source": [
    "## Conclusion:\n",
    "\n",
    "##### After analyzing Logistic Regression, Decision Tree, RandomForest, and Gradient Boosting models, the RandomForest Classifier showed the best performance. It achieved a strong balance between precision, recall, and F1-score, particularly in handling imbalanced data. While Logistic Regression and Decision Tree models struggled with minority class recall and showed signs of overfitting, RandomForest outperformed them by generalizing well across both training and test sets. Thus, RandomForest was selected as the best model for this task."
   ]
  },
  {
   "cell_type": "markdown",
   "id": "b68b587a",
   "metadata": {},
   "source": [
    "## Saving the Model"
   ]
  },
  {
   "cell_type": "code",
   "execution_count": 70,
   "id": "22bb045c",
   "metadata": {},
   "outputs": [
    {
     "data": {
      "text/plain": [
       "['random_forest_model.pkl']"
      ]
     },
     "execution_count": 70,
     "metadata": {},
     "output_type": "execute_result"
    }
   ],
   "source": [
    "import joblib\n",
    "\n",
    "# Save the trained model to a file\n",
    "joblib.dump(rf_model, 'random_forest_model.pkl')"
   ]
  },
  {
   "cell_type": "markdown",
   "id": "50b0935b",
   "metadata": {},
   "source": [
    "# Unseen Test data\n"
   ]
  },
  {
   "cell_type": "code",
   "execution_count": 71,
   "id": "80e576d4",
   "metadata": {},
   "outputs": [
    {
     "name": "stdout",
     "output_type": "stream",
     "text": [
      "(2000, 55)\n"
     ]
    },
    {
     "data": {
      "text/html": [
       "<div>\n",
       "<style scoped>\n",
       "    .dataframe tbody tr th:only-of-type {\n",
       "        vertical-align: middle;\n",
       "    }\n",
       "\n",
       "    .dataframe tbody tr th {\n",
       "        vertical-align: top;\n",
       "    }\n",
       "\n",
       "    .dataframe thead th {\n",
       "        text-align: right;\n",
       "    }\n",
       "</style>\n",
       "<table border=\"1\" class=\"dataframe\">\n",
       "  <thead>\n",
       "    <tr style=\"text-align: right;\">\n",
       "      <th></th>\n",
       "      <th>UID</th>\n",
       "      <th>DEALER ID</th>\n",
       "      <th>APPLICATION LOGIN DATE</th>\n",
       "      <th>HDB BRANCH NAME</th>\n",
       "      <th>HDB BRANCH STATE</th>\n",
       "      <th>FIRST NAME</th>\n",
       "      <th>MIDDLE NAME</th>\n",
       "      <th>LAST NAME</th>\n",
       "      <th>mobile</th>\n",
       "      <th>AADHAR VERIFIED</th>\n",
       "      <th>Cibil Score</th>\n",
       "      <th>MOBILE VERIFICATION</th>\n",
       "      <th>DEALER NAME</th>\n",
       "      <th>TOTAL ASSET COST</th>\n",
       "      <th>ASSET CTG</th>\n",
       "      <th>ASSET MODEL NO</th>\n",
       "      <th>APPLIED AMOUNT</th>\n",
       "      <th>PRIMARY ASSET MAKE</th>\n",
       "      <th>Primary Asset Model No</th>\n",
       "      <th>Personal Email Address</th>\n",
       "      <th>MARITAL STATUS</th>\n",
       "      <th>GENDER</th>\n",
       "      <th>DOB</th>\n",
       "      <th>AGE</th>\n",
       "      <th>ADDRESS TYPE</th>\n",
       "      <th>EMPLOY CONSTITUTION</th>\n",
       "      <th>EMPLOYER NAME</th>\n",
       "      <th>EMPLOYER TYPE</th>\n",
       "      <th>Pan Name</th>\n",
       "      <th>name</th>\n",
       "      <th>vpa</th>\n",
       "      <th>upi_name</th>\n",
       "      <th>Phone Social Premium.a23games</th>\n",
       "      <th>Phone Social Premium.amazon</th>\n",
       "      <th>Phone Social Premium.byjus</th>\n",
       "      <th>Phone Social Premium.flipkart</th>\n",
       "      <th>Phone Social Premium.housing</th>\n",
       "      <th>Phone Social Premium.indiamart</th>\n",
       "      <th>Phone Social Premium.instagram</th>\n",
       "      <th>Phone Social Premium.isWABusiness</th>\n",
       "      <th>Phone Social Premium.jeevansaathi</th>\n",
       "      <th>Phone Social Premium.jiomart</th>\n",
       "      <th>Phone Social Premium.microsoft</th>\n",
       "      <th>Phone Social Premium.my11</th>\n",
       "      <th>Phone Social Premium.paytm</th>\n",
       "      <th>Phone Social Premium.rummycircle</th>\n",
       "      <th>Phone Social Premium.shaadi</th>\n",
       "      <th>Phone Social Premium.skype</th>\n",
       "      <th>Phone Social Premium.toi</th>\n",
       "      <th>Phone Social Premium.whatsapp</th>\n",
       "      <th>Phone Social Premium.yatra</th>\n",
       "      <th>Phone Social Premium.zoho</th>\n",
       "      <th>phone_digitalage</th>\n",
       "      <th>phone_nameMatchScore</th>\n",
       "      <th>phone_phoneFootprintStrengthOverall</th>\n",
       "    </tr>\n",
       "  </thead>\n",
       "  <tbody>\n",
       "    <tr>\n",
       "      <th>0</th>\n",
       "      <td>1844045271814558464</td>\n",
       "      <td>105615</td>\n",
       "      <td>07/12/22</td>\n",
       "      <td>HUBLI-SF</td>\n",
       "      <td>NaN</td>\n",
       "      <td>VENUGOPAL</td>\n",
       "      <td>H</td>\n",
       "      <td>BHARADHVAJ</td>\n",
       "      <td>7019759674</td>\n",
       "      <td>NO</td>\n",
       "      <td>757</td>\n",
       "      <td>True</td>\n",
       "      <td>SHANTESHA AUTO PVT LTD PB ROAD</td>\n",
       "      <td>95352.0</td>\n",
       "      <td>SCECA</td>\n",
       "      <td>143241</td>\n",
       "      <td>88000</td>\n",
       "      <td>HONDA MOTORS</td>\n",
       "      <td>ACTIVA 6G STD BSVI</td>\n",
       "      <td>NULLMAIL@GMAIL.COM</td>\n",
       "      <td>Married</td>\n",
       "      <td>Male</td>\n",
       "      <td>10081965</td>\n",
       "      <td>56</td>\n",
       "      <td>Self/Spouse Owned</td>\n",
       "      <td>SALARIED</td>\n",
       "      <td>LIFE LINE HOSPITAL</td>\n",
       "      <td>SALARIED</td>\n",
       "      <td>VENUGOPAL SHESHAGIRI RAO BHARADHVAJ</td>\n",
       "      <td>VENUGOPAL H BHARADHVAJ</td>\n",
       "      <td>OKHDFCBANK</td>\n",
       "      <td>H VENUGOPAL BHARADHVAJ</td>\n",
       "      <td>NaN</td>\n",
       "      <td>0.0</td>\n",
       "      <td>0.0</td>\n",
       "      <td>0.0</td>\n",
       "      <td>0.0</td>\n",
       "      <td>1.0</td>\n",
       "      <td>NaN</td>\n",
       "      <td>0.0</td>\n",
       "      <td>0.0</td>\n",
       "      <td>NaN</td>\n",
       "      <td>0.0</td>\n",
       "      <td>NaN</td>\n",
       "      <td>1.0</td>\n",
       "      <td>NaN</td>\n",
       "      <td>0.0</td>\n",
       "      <td>0.0</td>\n",
       "      <td>0.0</td>\n",
       "      <td>0.0</td>\n",
       "      <td>NaN</td>\n",
       "      <td>0.0</td>\n",
       "      <td>676</td>\n",
       "      <td>100.0</td>\n",
       "      <td>Medium</td>\n",
       "    </tr>\n",
       "    <tr>\n",
       "      <th>1</th>\n",
       "      <td>1840349097823778816</td>\n",
       "      <td>91593</td>\n",
       "      <td>07/14/2022</td>\n",
       "      <td>SATNA-SF</td>\n",
       "      <td>MADHYA PRADESH</td>\n",
       "      <td>SHIVDHAR</td>\n",
       "      <td>NaN</td>\n",
       "      <td>CHAUDHARY</td>\n",
       "      <td>7697884828</td>\n",
       "      <td>NO</td>\n",
       "      <td>750</td>\n",
       "      <td>True</td>\n",
       "      <td>YASH MOTORS PANNA ROAD</td>\n",
       "      <td>75371.0</td>\n",
       "      <td>MOECA</td>\n",
       "      <td>166536</td>\n",
       "      <td>75000</td>\n",
       "      <td>TVS MOTOR CO</td>\n",
       "      <td>XL 100 HD I TOUCH START WE BSVI</td>\n",
       "      <td>SHIV@GMAIL.COM</td>\n",
       "      <td>Married</td>\n",
       "      <td>Male</td>\n",
       "      <td>1011980</td>\n",
       "      <td>42</td>\n",
       "      <td>Parental</td>\n",
       "      <td>SELF-EMPLOYED</td>\n",
       "      <td>m/s shivdhar Kirana Store</td>\n",
       "      <td>SELF-EMPLOYED</td>\n",
       "      <td>SHIVDHAR CHAUDHARY</td>\n",
       "      <td>SHIVDHAR CHAUDHARY</td>\n",
       "      <td>NaN</td>\n",
       "      <td>NaN</td>\n",
       "      <td>NaN</td>\n",
       "      <td>0.0</td>\n",
       "      <td>0.0</td>\n",
       "      <td>0.0</td>\n",
       "      <td>0.0</td>\n",
       "      <td>1.0</td>\n",
       "      <td>NaN</td>\n",
       "      <td>0.0</td>\n",
       "      <td>0.0</td>\n",
       "      <td>NaN</td>\n",
       "      <td>0.0</td>\n",
       "      <td>NaN</td>\n",
       "      <td>0.0</td>\n",
       "      <td>NaN</td>\n",
       "      <td>0.0</td>\n",
       "      <td>0.0</td>\n",
       "      <td>NaN</td>\n",
       "      <td>0.0</td>\n",
       "      <td>NaN</td>\n",
       "      <td>0.0</td>\n",
       "      <td>897</td>\n",
       "      <td>-1.0</td>\n",
       "      <td>Low</td>\n",
       "    </tr>\n",
       "    <tr>\n",
       "      <th>2</th>\n",
       "      <td>1488102613362294272</td>\n",
       "      <td>74152</td>\n",
       "      <td>07/07/22</td>\n",
       "      <td>LUCKNOW-SF</td>\n",
       "      <td>UTTAR PRADESH</td>\n",
       "      <td>MANISH</td>\n",
       "      <td>NaN</td>\n",
       "      <td>VERMA</td>\n",
       "      <td>8840079825</td>\n",
       "      <td>NO</td>\n",
       "      <td>710</td>\n",
       "      <td>True</td>\n",
       "      <td>JP MOTOR PRIVATE LTD NEXT TO CARAK</td>\n",
       "      <td>94983.0</td>\n",
       "      <td>SCECA</td>\n",
       "      <td>134123</td>\n",
       "      <td>93000</td>\n",
       "      <td>HONDA MOTORS</td>\n",
       "      <td>ACTIVA 6G DLX</td>\n",
       "      <td>MANISHVERMA1996@GMAIL.COM</td>\n",
       "      <td>Single</td>\n",
       "      <td>Male</td>\n",
       "      <td>28091996</td>\n",
       "      <td>25</td>\n",
       "      <td>Self/Spouse Owned</td>\n",
       "      <td>SELF-EMPLOYED</td>\n",
       "      <td>RK TRADERS (OWNER)</td>\n",
       "      <td>SELF-EMPLOYED</td>\n",
       "      <td>MANISH VERMA</td>\n",
       "      <td>MANISH VERMA</td>\n",
       "      <td>AXL</td>\n",
       "      <td>MANISH  VERMA</td>\n",
       "      <td>NaN</td>\n",
       "      <td>1.0</td>\n",
       "      <td>0.0</td>\n",
       "      <td>1.0</td>\n",
       "      <td>0.0</td>\n",
       "      <td>1.0</td>\n",
       "      <td>NaN</td>\n",
       "      <td>0.0</td>\n",
       "      <td>0.0</td>\n",
       "      <td>NaN</td>\n",
       "      <td>1.0</td>\n",
       "      <td>NaN</td>\n",
       "      <td>1.0</td>\n",
       "      <td>NaN</td>\n",
       "      <td>0.0</td>\n",
       "      <td>1.0</td>\n",
       "      <td>0.0</td>\n",
       "      <td>1.0</td>\n",
       "      <td>NaN</td>\n",
       "      <td>0.0</td>\n",
       "      <td>839</td>\n",
       "      <td>100.0</td>\n",
       "      <td>Medium</td>\n",
       "    </tr>\n",
       "    <tr>\n",
       "      <th>3</th>\n",
       "      <td>555529923942874624</td>\n",
       "      <td>110164</td>\n",
       "      <td>07/13/2022</td>\n",
       "      <td>KOLLAM-SF</td>\n",
       "      <td>KERALA</td>\n",
       "      <td>DEEPU</td>\n",
       "      <td>RAVEENDRAN</td>\n",
       "      <td>RAVEENDRAN</td>\n",
       "      <td>8089276854</td>\n",
       "      <td>NO</td>\n",
       "      <td>695</td>\n",
       "      <td>True</td>\n",
       "      <td>GEORGE MAIJO INDUSTRIES P L ANANDAR</td>\n",
       "      <td>NaN</td>\n",
       "      <td>NaN</td>\n",
       "      <td>143627</td>\n",
       "      <td>95000</td>\n",
       "      <td>YAMAHA MOTOR</td>\n",
       "      <td>RAY ZR 125 FI DRUM BSVI</td>\n",
       "      <td>DEEPU@GMAIL.COM</td>\n",
       "      <td>NaN</td>\n",
       "      <td>Male</td>\n",
       "      <td>14041988</td>\n",
       "      <td>34</td>\n",
       "      <td>NaN</td>\n",
       "      <td>NaN</td>\n",
       "      <td>NaN</td>\n",
       "      <td>NaN</td>\n",
       "      <td>DEEPU RAVEENDRAN</td>\n",
       "      <td>DEEPU RAVEENDRAN RAVEENDRAN</td>\n",
       "      <td>NaN</td>\n",
       "      <td>NaN</td>\n",
       "      <td>NaN</td>\n",
       "      <td>0.0</td>\n",
       "      <td>0.0</td>\n",
       "      <td>0.0</td>\n",
       "      <td>0.0</td>\n",
       "      <td>1.0</td>\n",
       "      <td>NaN</td>\n",
       "      <td>NaN</td>\n",
       "      <td>0.0</td>\n",
       "      <td>NaN</td>\n",
       "      <td>0.0</td>\n",
       "      <td>NaN</td>\n",
       "      <td>0.0</td>\n",
       "      <td>NaN</td>\n",
       "      <td>0.0</td>\n",
       "      <td>0.0</td>\n",
       "      <td>0.0</td>\n",
       "      <td>NaN</td>\n",
       "      <td>NaN</td>\n",
       "      <td>0.0</td>\n",
       "      <td>2050</td>\n",
       "      <td>-1.0</td>\n",
       "      <td>Low</td>\n",
       "    </tr>\n",
       "    <tr>\n",
       "      <th>4</th>\n",
       "      <td>1010213070486150912</td>\n",
       "      <td>113037</td>\n",
       "      <td>07/08/22</td>\n",
       "      <td>PURI-SF</td>\n",
       "      <td>ORISSA</td>\n",
       "      <td>AKASHA</td>\n",
       "      <td>NaN</td>\n",
       "      <td>PRADHAN</td>\n",
       "      <td>9337511958</td>\n",
       "      <td>NO</td>\n",
       "      <td>NaN</td>\n",
       "      <td>True</td>\n",
       "      <td>MAA HENGULA MOTORS BRAHMAGIRI</td>\n",
       "      <td>90277.0</td>\n",
       "      <td>MCECA</td>\n",
       "      <td>143948</td>\n",
       "      <td>83000</td>\n",
       "      <td>HERO MOTORS</td>\n",
       "      <td>PASSION PRO SS DRUM BRAKE BSVI</td>\n",
       "      <td>AKASHAPRADHAN@GMAIL.COM</td>\n",
       "      <td>Single</td>\n",
       "      <td>Male</td>\n",
       "      <td>1011998</td>\n",
       "      <td>24</td>\n",
       "      <td>Parental</td>\n",
       "      <td>SELF-EMPLOYED</td>\n",
       "      <td>KHETRAPALA SEA FOODS</td>\n",
       "      <td>SELF-EMPLOYED</td>\n",
       "      <td>NaN</td>\n",
       "      <td>AKASHA PRADHAN</td>\n",
       "      <td>YBL</td>\n",
       "      <td>AKASH  PRADHAN</td>\n",
       "      <td>NaN</td>\n",
       "      <td>1.0</td>\n",
       "      <td>0.0</td>\n",
       "      <td>1.0</td>\n",
       "      <td>0.0</td>\n",
       "      <td>1.0</td>\n",
       "      <td>1.0</td>\n",
       "      <td>NaN</td>\n",
       "      <td>0.0</td>\n",
       "      <td>NaN</td>\n",
       "      <td>0.0</td>\n",
       "      <td>NaN</td>\n",
       "      <td>1.0</td>\n",
       "      <td>NaN</td>\n",
       "      <td>0.0</td>\n",
       "      <td>0.0</td>\n",
       "      <td>0.0</td>\n",
       "      <td>NaN</td>\n",
       "      <td>NaN</td>\n",
       "      <td>0.0</td>\n",
       "      <td>-1</td>\n",
       "      <td>-1.0</td>\n",
       "      <td>Very Low</td>\n",
       "    </tr>\n",
       "  </tbody>\n",
       "</table>\n",
       "</div>"
      ],
      "text/plain": [
       "                   UID  DEALER ID APPLICATION LOGIN DATE HDB BRANCH NAME  \\\n",
       "0  1844045271814558464     105615               07/12/22        HUBLI-SF   \n",
       "1  1840349097823778816      91593             07/14/2022        SATNA-SF   \n",
       "2  1488102613362294272      74152               07/07/22      LUCKNOW-SF   \n",
       "3   555529923942874624     110164             07/13/2022       KOLLAM-SF   \n",
       "4  1010213070486150912     113037               07/08/22         PURI-SF   \n",
       "\n",
       "  HDB BRANCH STATE FIRST NAME MIDDLE NAME   LAST NAME      mobile  \\\n",
       "0              NaN  VENUGOPAL           H  BHARADHVAJ  7019759674   \n",
       "1   MADHYA PRADESH   SHIVDHAR         NaN   CHAUDHARY  7697884828   \n",
       "2    UTTAR PRADESH     MANISH         NaN       VERMA  8840079825   \n",
       "3           KERALA      DEEPU  RAVEENDRAN  RAVEENDRAN  8089276854   \n",
       "4           ORISSA     AKASHA         NaN     PRADHAN  9337511958   \n",
       "\n",
       "  AADHAR VERIFIED Cibil Score  MOBILE VERIFICATION  \\\n",
       "0              NO         757                 True   \n",
       "1              NO         750                 True   \n",
       "2              NO         710                 True   \n",
       "3              NO         695                 True   \n",
       "4              NO         NaN                 True   \n",
       "\n",
       "                           DEALER NAME  TOTAL ASSET COST ASSET CTG  \\\n",
       "0       SHANTESHA AUTO PVT LTD PB ROAD           95352.0     SCECA   \n",
       "1               YASH MOTORS PANNA ROAD           75371.0     MOECA   \n",
       "2   JP MOTOR PRIVATE LTD NEXT TO CARAK           94983.0     SCECA   \n",
       "3  GEORGE MAIJO INDUSTRIES P L ANANDAR               NaN       NaN   \n",
       "4        MAA HENGULA MOTORS BRAHMAGIRI           90277.0     MCECA   \n",
       "\n",
       "   ASSET MODEL NO  APPLIED AMOUNT PRIMARY ASSET MAKE  \\\n",
       "0          143241           88000       HONDA MOTORS   \n",
       "1          166536           75000       TVS MOTOR CO   \n",
       "2          134123           93000       HONDA MOTORS   \n",
       "3          143627           95000       YAMAHA MOTOR   \n",
       "4          143948           83000        HERO MOTORS   \n",
       "\n",
       "            Primary Asset Model No     Personal Email Address MARITAL STATUS  \\\n",
       "0               ACTIVA 6G STD BSVI         NULLMAIL@GMAIL.COM        Married   \n",
       "1  XL 100 HD I TOUCH START WE BSVI             SHIV@GMAIL.COM        Married   \n",
       "2                    ACTIVA 6G DLX  MANISHVERMA1996@GMAIL.COM         Single   \n",
       "3          RAY ZR 125 FI DRUM BSVI            DEEPU@GMAIL.COM            NaN   \n",
       "4   PASSION PRO SS DRUM BRAKE BSVI    AKASHAPRADHAN@GMAIL.COM         Single   \n",
       "\n",
       "  GENDER       DOB  AGE       ADDRESS TYPE EMPLOY CONSTITUTION  \\\n",
       "0   Male  10081965   56  Self/Spouse Owned            SALARIED   \n",
       "1   Male   1011980   42           Parental       SELF-EMPLOYED   \n",
       "2   Male  28091996   25  Self/Spouse Owned       SELF-EMPLOYED   \n",
       "3   Male  14041988   34                NaN                 NaN   \n",
       "4   Male   1011998   24           Parental       SELF-EMPLOYED   \n",
       "\n",
       "               EMPLOYER NAME  EMPLOYER TYPE  \\\n",
       "0         LIFE LINE HOSPITAL       SALARIED   \n",
       "1  m/s shivdhar Kirana Store  SELF-EMPLOYED   \n",
       "2         RK TRADERS (OWNER)  SELF-EMPLOYED   \n",
       "3                        NaN            NaN   \n",
       "4       KHETRAPALA SEA FOODS  SELF-EMPLOYED   \n",
       "\n",
       "                              Pan Name                         name  \\\n",
       "0  VENUGOPAL SHESHAGIRI RAO BHARADHVAJ       VENUGOPAL H BHARADHVAJ   \n",
       "1                   SHIVDHAR CHAUDHARY           SHIVDHAR CHAUDHARY   \n",
       "2                         MANISH VERMA                 MANISH VERMA   \n",
       "3                     DEEPU RAVEENDRAN  DEEPU RAVEENDRAN RAVEENDRAN   \n",
       "4                                  NaN               AKASHA PRADHAN   \n",
       "\n",
       "          vpa                upi_name  Phone Social Premium.a23games  \\\n",
       "0  OKHDFCBANK  H VENUGOPAL BHARADHVAJ                            NaN   \n",
       "1         NaN                     NaN                            NaN   \n",
       "2         AXL           MANISH  VERMA                            NaN   \n",
       "3         NaN                     NaN                            NaN   \n",
       "4         YBL          AKASH  PRADHAN                            NaN   \n",
       "\n",
       "   Phone Social Premium.amazon  Phone Social Premium.byjus  \\\n",
       "0                          0.0                         0.0   \n",
       "1                          0.0                         0.0   \n",
       "2                          1.0                         0.0   \n",
       "3                          0.0                         0.0   \n",
       "4                          1.0                         0.0   \n",
       "\n",
       "   Phone Social Premium.flipkart  Phone Social Premium.housing  \\\n",
       "0                            0.0                           0.0   \n",
       "1                            0.0                           0.0   \n",
       "2                            1.0                           0.0   \n",
       "3                            0.0                           0.0   \n",
       "4                            1.0                           0.0   \n",
       "\n",
       "   Phone Social Premium.indiamart  Phone Social Premium.instagram  \\\n",
       "0                             1.0                             NaN   \n",
       "1                             1.0                             NaN   \n",
       "2                             1.0                             NaN   \n",
       "3                             1.0                             NaN   \n",
       "4                             1.0                             1.0   \n",
       "\n",
       "   Phone Social Premium.isWABusiness  Phone Social Premium.jeevansaathi  \\\n",
       "0                                0.0                                0.0   \n",
       "1                                0.0                                0.0   \n",
       "2                                0.0                                0.0   \n",
       "3                                NaN                                0.0   \n",
       "4                                NaN                                0.0   \n",
       "\n",
       "   Phone Social Premium.jiomart  Phone Social Premium.microsoft  \\\n",
       "0                           NaN                             0.0   \n",
       "1                           NaN                             0.0   \n",
       "2                           NaN                             1.0   \n",
       "3                           NaN                             0.0   \n",
       "4                           NaN                             0.0   \n",
       "\n",
       "   Phone Social Premium.my11  Phone Social Premium.paytm  \\\n",
       "0                        NaN                         1.0   \n",
       "1                        NaN                         0.0   \n",
       "2                        NaN                         1.0   \n",
       "3                        NaN                         0.0   \n",
       "4                        NaN                         1.0   \n",
       "\n",
       "   Phone Social Premium.rummycircle  Phone Social Premium.shaadi  \\\n",
       "0                               NaN                          0.0   \n",
       "1                               NaN                          0.0   \n",
       "2                               NaN                          0.0   \n",
       "3                               NaN                          0.0   \n",
       "4                               NaN                          0.0   \n",
       "\n",
       "   Phone Social Premium.skype  Phone Social Premium.toi  \\\n",
       "0                         0.0                       0.0   \n",
       "1                         0.0                       NaN   \n",
       "2                         1.0                       0.0   \n",
       "3                         0.0                       0.0   \n",
       "4                         0.0                       0.0   \n",
       "\n",
       "   Phone Social Premium.whatsapp  Phone Social Premium.yatra  \\\n",
       "0                            0.0                         NaN   \n",
       "1                            0.0                         NaN   \n",
       "2                            1.0                         NaN   \n",
       "3                            NaN                         NaN   \n",
       "4                            NaN                         NaN   \n",
       "\n",
       "   Phone Social Premium.zoho  phone_digitalage  phone_nameMatchScore  \\\n",
       "0                        0.0               676                 100.0   \n",
       "1                        0.0               897                  -1.0   \n",
       "2                        0.0               839                 100.0   \n",
       "3                        0.0              2050                  -1.0   \n",
       "4                        0.0                -1                  -1.0   \n",
       "\n",
       "  phone_phoneFootprintStrengthOverall  \n",
       "0                              Medium  \n",
       "1                                 Low  \n",
       "2                              Medium  \n",
       "3                                 Low  \n",
       "4                            Very Low  "
      ]
     },
     "execution_count": 71,
     "metadata": {},
     "output_type": "execute_result"
    }
   ],
   "source": [
    "# Step 1: Load the unseen data\n",
    "unseen_data = pd.read_csv('Assignment_Test.csv')\n",
    "print(unseen_data.shape)\n",
    "unseen_data.head()"
   ]
  },
  {
   "cell_type": "markdown",
   "id": "c6fa90d3",
   "metadata": {},
   "source": [
    "## Handling Unseen Data Features as like in Trained model for Prediction"
   ]
  },
  {
   "cell_type": "code",
   "execution_count": 72,
   "id": "84945f60",
   "metadata": {},
   "outputs": [],
   "source": [
    "num_col = list(df_num.columns)"
   ]
  },
  {
   "cell_type": "code",
   "execution_count": 73,
   "id": "637e35ad",
   "metadata": {},
   "outputs": [
    {
     "data": {
      "text/plain": [
       "['Cibil Score', 'TOTAL ASSET COST', 'APPLIED AMOUNT', 'phone_nameMatchScore']"
      ]
     },
     "execution_count": 73,
     "metadata": {},
     "output_type": "execute_result"
    }
   ],
   "source": [
    "num_col"
   ]
  },
  {
   "cell_type": "code",
   "execution_count": 74,
   "id": "8412f8f4",
   "metadata": {},
   "outputs": [
    {
     "data": {
      "text/plain": [
       "Cibil Score              842\n",
       "TOTAL ASSET COST        1022\n",
       "APPLIED AMOUNT             0\n",
       "phone_nameMatchScore       0\n",
       "dtype: int64"
      ]
     },
     "execution_count": 74,
     "metadata": {},
     "output_type": "execute_result"
    }
   ],
   "source": [
    "unseen_data[['Cibil Score', 'TOTAL ASSET COST', 'APPLIED AMOUNT', 'phone_nameMatchScore']].isnull().sum()"
   ]
  },
  {
   "cell_type": "code",
   "execution_count": 75,
   "id": "937867b0",
   "metadata": {},
   "outputs": [],
   "source": [
    "unseen_data['Cibil Score'] = pd.to_numeric(unseen_data['Cibil Score'], errors='coerce')\n",
    "\n",
    "# Calculate the 25th percentile\n",
    "percentile_25 = unseen_data['Cibil Score'].quantile(0.25)\n",
    "\n",
    "# Fill missing values with the 25th percentile\n",
    "unseen_data['Cibil Score'].fillna(percentile_25, inplace=True)"
   ]
  },
  {
   "cell_type": "code",
   "execution_count": 76,
   "id": "2745828e",
   "metadata": {},
   "outputs": [],
   "source": [
    "sample_df['TOTAL ASSET COST'] = pd.to_numeric(sample_df['TOTAL ASSET COST'], errors = 'coerce')\n",
    "# Calculate the 25th percentile\n",
    "percentile_25 = sample_df['TOTAL ASSET COST'].quantile(0.25)\n",
    "\n",
    "# Fill missing values with the 25th percentile\n",
    "unseen_data['TOTAL ASSET COST'].fillna(percentile_25, inplace=True)"
   ]
  },
  {
   "cell_type": "code",
   "execution_count": 77,
   "id": "1746b5f6",
   "metadata": {},
   "outputs": [],
   "source": [
    "cat_col = list(df_cat.columns)"
   ]
  },
  {
   "cell_type": "code",
   "execution_count": 78,
   "id": "47b76ddb",
   "metadata": {},
   "outputs": [
    {
     "data": {
      "text/plain": [
       "['AADHAR VERIFIED',\n",
       " 'MOBILE VERIFICATION',\n",
       " 'EMPLOYER TYPE',\n",
       " 'phone_phoneFootprintStrengthOverall']"
      ]
     },
     "execution_count": 78,
     "metadata": {},
     "output_type": "execute_result"
    }
   ],
   "source": [
    "cat_col"
   ]
  },
  {
   "cell_type": "code",
   "execution_count": 79,
   "id": "cc57457b",
   "metadata": {},
   "outputs": [
    {
     "data": {
      "text/plain": [
       "AADHAR VERIFIED                          0\n",
       "MOBILE VERIFICATION                      0\n",
       "EMPLOYER TYPE                          994\n",
       "phone_phoneFootprintStrengthOverall      1\n",
       "dtype: int64"
      ]
     },
     "execution_count": 79,
     "metadata": {},
     "output_type": "execute_result"
    }
   ],
   "source": [
    "unseen_data[cat_col].isnull().sum()"
   ]
  },
  {
   "cell_type": "code",
   "execution_count": 80,
   "id": "d7ca0122",
   "metadata": {},
   "outputs": [],
   "source": [
    "unseen_data['EMPLOYER TYPE'].fillna('Unknown', inplace = True)"
   ]
  },
  {
   "cell_type": "code",
   "execution_count": 81,
   "id": "dd96489c",
   "metadata": {},
   "outputs": [
    {
     "data": {
      "text/plain": [
       "phone_phoneFootprintStrengthOverall\n",
       "Low          1129\n",
       "Medium        679\n",
       "High          117\n",
       "Very Low       71\n",
       "Very High       3\n",
       "Name: count, dtype: int64"
      ]
     },
     "execution_count": 81,
     "metadata": {},
     "output_type": "execute_result"
    }
   ],
   "source": [
    "unseen_data['phone_phoneFootprintStrengthOverall'].value_counts()"
   ]
  },
  {
   "cell_type": "code",
   "execution_count": 82,
   "id": "ae2fd639",
   "metadata": {},
   "outputs": [],
   "source": [
    "unseen_data['phone_phoneFootprintStrengthOverall'].fillna('Low', inplace = True)"
   ]
  },
  {
   "cell_type": "code",
   "execution_count": 83,
   "id": "8ee176f0",
   "metadata": {},
   "outputs": [],
   "source": [
    "prediction = pd.concat([unseen_data[num_col], unseen_data[cat_col]], axis = 1)"
   ]
  },
  {
   "cell_type": "code",
   "execution_count": 84,
   "id": "269c9d70",
   "metadata": {},
   "outputs": [
    {
     "data": {
      "text/plain": [
       "(2000, 8)"
      ]
     },
     "execution_count": 84,
     "metadata": {},
     "output_type": "execute_result"
    }
   ],
   "source": [
    "prediction.shape"
   ]
  },
  {
   "cell_type": "code",
   "execution_count": 85,
   "id": "1b7dbd00",
   "metadata": {},
   "outputs": [
    {
     "data": {
      "text/plain": [
       "Cibil Score                            0\n",
       "TOTAL ASSET COST                       0\n",
       "APPLIED AMOUNT                         0\n",
       "phone_nameMatchScore                   0\n",
       "AADHAR VERIFIED                        0\n",
       "MOBILE VERIFICATION                    0\n",
       "EMPLOYER TYPE                          0\n",
       "phone_phoneFootprintStrengthOverall    0\n",
       "dtype: int64"
      ]
     },
     "execution_count": 85,
     "metadata": {},
     "output_type": "execute_result"
    }
   ],
   "source": [
    "prediction.isnull().sum()"
   ]
  },
  {
   "cell_type": "code",
   "execution_count": 86,
   "id": "589f51a3",
   "metadata": {},
   "outputs": [],
   "source": [
    "num_col = prediction.select_dtypes(include = [np.number])"
   ]
  },
  {
   "cell_type": "code",
   "execution_count": 87,
   "id": "32cd878a",
   "metadata": {},
   "outputs": [],
   "source": [
    "# import StandardScaler to perform scaling\n",
    "from sklearn.preprocessing import StandardScaler \n",
    "\n",
    "# initialize the standard scalar\n",
    "X_scaler = StandardScaler()\n",
    "\n",
    "# scale all the numeric variables\n",
    "# standardize all the columns of the dataframe 'df_num'\n",
    "num_scaled = X_scaler.fit_transform(num_col)\n",
    "\n",
    "# create a dataframe of scaled numerical variables\n",
    "# pass the required column names to the parameter 'columns'\n",
    "num_scaled = pd.DataFrame(num_scaled, columns = df_num.columns)"
   ]
  },
  {
   "cell_type": "code",
   "execution_count": 88,
   "id": "bc633a7a",
   "metadata": {},
   "outputs": [],
   "source": [
    "cat_col = prediction.select_dtypes(include = [object])"
   ]
  },
  {
   "cell_type": "code",
   "execution_count": 89,
   "id": "7675d4f0",
   "metadata": {},
   "outputs": [],
   "source": [
    "categorical_columns =  list(cat_col.columns)\n",
    "dummy_vari = pd.get_dummies(data = cat_col, prefix = None, prefix_sep='_',\n",
    "               columns = categorical_columns,\n",
    "               drop_first =True,\n",
    "              dtype='int8')"
   ]
  },
  {
   "cell_type": "code",
   "execution_count": 90,
   "id": "66324cf3",
   "metadata": {},
   "outputs": [],
   "source": [
    "new_X_test = pd.concat([num_scaled, dummy_vari], axis = 1)"
   ]
  },
  {
   "cell_type": "code",
   "execution_count": 91,
   "id": "8cb26cbc",
   "metadata": {},
   "outputs": [
    {
     "data": {
      "text/html": [
       "<div>\n",
       "<style scoped>\n",
       "    .dataframe tbody tr th:only-of-type {\n",
       "        vertical-align: middle;\n",
       "    }\n",
       "\n",
       "    .dataframe tbody tr th {\n",
       "        vertical-align: top;\n",
       "    }\n",
       "\n",
       "    .dataframe thead th {\n",
       "        text-align: right;\n",
       "    }\n",
       "</style>\n",
       "<table border=\"1\" class=\"dataframe\">\n",
       "  <thead>\n",
       "    <tr style=\"text-align: right;\">\n",
       "      <th></th>\n",
       "      <th>Cibil Score</th>\n",
       "      <th>TOTAL ASSET COST</th>\n",
       "      <th>APPLIED AMOUNT</th>\n",
       "      <th>phone_nameMatchScore</th>\n",
       "      <th>EMPLOYER TYPE_Non-Government</th>\n",
       "      <th>EMPLOYER TYPE_SALARIED</th>\n",
       "      <th>EMPLOYER TYPE_SELF-EMPLOYED</th>\n",
       "      <th>EMPLOYER TYPE_Unknown</th>\n",
       "      <th>phone_phoneFootprintStrengthOverall_Low</th>\n",
       "      <th>phone_phoneFootprintStrengthOverall_Medium</th>\n",
       "      <th>phone_phoneFootprintStrengthOverall_Very High</th>\n",
       "      <th>phone_phoneFootprintStrengthOverall_Very Low</th>\n",
       "    </tr>\n",
       "  </thead>\n",
       "  <tbody>\n",
       "    <tr>\n",
       "      <th>0</th>\n",
       "      <td>1.338600</td>\n",
       "      <td>0.194740</td>\n",
       "      <td>-0.121184</td>\n",
       "      <td>1.78309</td>\n",
       "      <td>0</td>\n",
       "      <td>1</td>\n",
       "      <td>0</td>\n",
       "      <td>0</td>\n",
       "      <td>0</td>\n",
       "      <td>1</td>\n",
       "      <td>0</td>\n",
       "      <td>0</td>\n",
       "    </tr>\n",
       "    <tr>\n",
       "      <th>1</th>\n",
       "      <td>1.200118</td>\n",
       "      <td>-1.425715</td>\n",
       "      <td>-0.396173</td>\n",
       "      <td>-0.71408</td>\n",
       "      <td>0</td>\n",
       "      <td>0</td>\n",
       "      <td>1</td>\n",
       "      <td>0</td>\n",
       "      <td>1</td>\n",
       "      <td>0</td>\n",
       "      <td>0</td>\n",
       "      <td>0</td>\n",
       "    </tr>\n",
       "    <tr>\n",
       "      <th>2</th>\n",
       "      <td>0.408790</td>\n",
       "      <td>0.164814</td>\n",
       "      <td>-0.015418</td>\n",
       "      <td>1.78309</td>\n",
       "      <td>0</td>\n",
       "      <td>0</td>\n",
       "      <td>1</td>\n",
       "      <td>0</td>\n",
       "      <td>0</td>\n",
       "      <td>1</td>\n",
       "      <td>0</td>\n",
       "      <td>0</td>\n",
       "    </tr>\n",
       "    <tr>\n",
       "      <th>3</th>\n",
       "      <td>0.112042</td>\n",
       "      <td>-0.366997</td>\n",
       "      <td>0.026888</td>\n",
       "      <td>-0.71408</td>\n",
       "      <td>0</td>\n",
       "      <td>0</td>\n",
       "      <td>0</td>\n",
       "      <td>1</td>\n",
       "      <td>1</td>\n",
       "      <td>0</td>\n",
       "      <td>0</td>\n",
       "      <td>0</td>\n",
       "    </tr>\n",
       "    <tr>\n",
       "      <th>4</th>\n",
       "      <td>-0.461671</td>\n",
       "      <td>-0.216841</td>\n",
       "      <td>-0.226949</td>\n",
       "      <td>-0.71408</td>\n",
       "      <td>0</td>\n",
       "      <td>0</td>\n",
       "      <td>1</td>\n",
       "      <td>0</td>\n",
       "      <td>0</td>\n",
       "      <td>0</td>\n",
       "      <td>0</td>\n",
       "      <td>1</td>\n",
       "    </tr>\n",
       "  </tbody>\n",
       "</table>\n",
       "</div>"
      ],
      "text/plain": [
       "   Cibil Score  TOTAL ASSET COST  APPLIED AMOUNT  phone_nameMatchScore  \\\n",
       "0     1.338600          0.194740       -0.121184               1.78309   \n",
       "1     1.200118         -1.425715       -0.396173              -0.71408   \n",
       "2     0.408790          0.164814       -0.015418               1.78309   \n",
       "3     0.112042         -0.366997        0.026888              -0.71408   \n",
       "4    -0.461671         -0.216841       -0.226949              -0.71408   \n",
       "\n",
       "   EMPLOYER TYPE_Non-Government  EMPLOYER TYPE_SALARIED  \\\n",
       "0                             0                       1   \n",
       "1                             0                       0   \n",
       "2                             0                       0   \n",
       "3                             0                       0   \n",
       "4                             0                       0   \n",
       "\n",
       "   EMPLOYER TYPE_SELF-EMPLOYED  EMPLOYER TYPE_Unknown  \\\n",
       "0                            0                      0   \n",
       "1                            1                      0   \n",
       "2                            1                      0   \n",
       "3                            0                      1   \n",
       "4                            1                      0   \n",
       "\n",
       "   phone_phoneFootprintStrengthOverall_Low  \\\n",
       "0                                        0   \n",
       "1                                        1   \n",
       "2                                        0   \n",
       "3                                        1   \n",
       "4                                        0   \n",
       "\n",
       "   phone_phoneFootprintStrengthOverall_Medium  \\\n",
       "0                                           1   \n",
       "1                                           0   \n",
       "2                                           1   \n",
       "3                                           0   \n",
       "4                                           0   \n",
       "\n",
       "   phone_phoneFootprintStrengthOverall_Very High  \\\n",
       "0                                              0   \n",
       "1                                              0   \n",
       "2                                              0   \n",
       "3                                              0   \n",
       "4                                              0   \n",
       "\n",
       "   phone_phoneFootprintStrengthOverall_Very Low  \n",
       "0                                             0  \n",
       "1                                             0  \n",
       "2                                             0  \n",
       "3                                             0  \n",
       "4                                             1  "
      ]
     },
     "execution_count": 91,
     "metadata": {},
     "output_type": "execute_result"
    }
   ],
   "source": [
    "new_X_test.head()"
   ]
  },
  {
   "cell_type": "markdown",
   "id": "e4aee2cb",
   "metadata": {},
   "source": [
    "## Loading Pre-Trained Model Whether to Approve/Decline Loan"
   ]
  },
  {
   "cell_type": "code",
   "execution_count": 92,
   "id": "cc20a0d5",
   "metadata": {},
   "outputs": [],
   "source": [
    "load_rf_model = joblib.load('random_forest_model.pkl')\n",
    "\n",
    "y_pred_new = load_rf_model.predict(new_X_test)"
   ]
  },
  {
   "cell_type": "code",
   "execution_count": 93,
   "id": "f70c4c7d",
   "metadata": {},
   "outputs": [],
   "source": [
    "prediction_df = pd.DataFrame(unseen_data[['UID']])\n",
    "prediction_df['Application Status'] = y_pred_new\n",
    "\n",
    "# Use lambda function to map numeric values to status labels\n",
    "prediction_df['Application Status'] = prediction_df['Application Status'].apply(lambda x: 'APPROVED' if x == 1 else 'DECLINED')"
   ]
  },
  {
   "cell_type": "code",
   "execution_count": 94,
   "id": "c1f0c9d2",
   "metadata": {},
   "outputs": [
    {
     "data": {
      "text/html": [
       "<div>\n",
       "<style scoped>\n",
       "    .dataframe tbody tr th:only-of-type {\n",
       "        vertical-align: middle;\n",
       "    }\n",
       "\n",
       "    .dataframe tbody tr th {\n",
       "        vertical-align: top;\n",
       "    }\n",
       "\n",
       "    .dataframe thead th {\n",
       "        text-align: right;\n",
       "    }\n",
       "</style>\n",
       "<table border=\"1\" class=\"dataframe\">\n",
       "  <thead>\n",
       "    <tr style=\"text-align: right;\">\n",
       "      <th></th>\n",
       "      <th>UID</th>\n",
       "      <th>Application Status</th>\n",
       "    </tr>\n",
       "  </thead>\n",
       "  <tbody>\n",
       "    <tr>\n",
       "      <th>0</th>\n",
       "      <td>1844045271814558464</td>\n",
       "      <td>APPROVED</td>\n",
       "    </tr>\n",
       "    <tr>\n",
       "      <th>1</th>\n",
       "      <td>1840349097823778816</td>\n",
       "      <td>APPROVED</td>\n",
       "    </tr>\n",
       "    <tr>\n",
       "      <th>2</th>\n",
       "      <td>1488102613362294272</td>\n",
       "      <td>APPROVED</td>\n",
       "    </tr>\n",
       "    <tr>\n",
       "      <th>3</th>\n",
       "      <td>555529923942874624</td>\n",
       "      <td>DECLINED</td>\n",
       "    </tr>\n",
       "    <tr>\n",
       "      <th>4</th>\n",
       "      <td>1010213070486150912</td>\n",
       "      <td>APPROVED</td>\n",
       "    </tr>\n",
       "  </tbody>\n",
       "</table>\n",
       "</div>"
      ],
      "text/plain": [
       "                   UID Application Status\n",
       "0  1844045271814558464           APPROVED\n",
       "1  1840349097823778816           APPROVED\n",
       "2  1488102613362294272           APPROVED\n",
       "3   555529923942874624           DECLINED\n",
       "4  1010213070486150912           APPROVED"
      ]
     },
     "execution_count": 94,
     "metadata": {},
     "output_type": "execute_result"
    }
   ],
   "source": [
    "prediction_df.head()"
   ]
  },
  {
   "cell_type": "markdown",
   "id": "1f1cc95e",
   "metadata": {},
   "source": [
    "## Converting/Storing Result to CSV file format"
   ]
  },
  {
   "cell_type": "code",
   "execution_count": 95,
   "id": "ff11e9fb",
   "metadata": {},
   "outputs": [],
   "source": [
    "prediction_df.to_csv('predictions.csv', index=False)"
   ]
  },
  {
   "cell_type": "code",
   "execution_count": null,
   "id": "779ce752",
   "metadata": {},
   "outputs": [],
   "source": []
  }
 ],
 "metadata": {
  "kernelspec": {
   "display_name": "Python 3 (ipykernel)",
   "language": "python",
   "name": "python3"
  },
  "language_info": {
   "codemirror_mode": {
    "name": "ipython",
    "version": 3
   },
   "file_extension": ".py",
   "mimetype": "text/x-python",
   "name": "python",
   "nbconvert_exporter": "python",
   "pygments_lexer": "ipython3",
   "version": "3.11.7"
  }
 },
 "nbformat": 4,
 "nbformat_minor": 5
}
